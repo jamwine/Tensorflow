{
  "nbformat": 4,
  "nbformat_minor": 0,
  "metadata": {
    "colab": {
      "name": "Tensorflow",
      "provenance": [],
      "authorship_tag": "ABX9TyNRIyTz5HoIihOf1jn4G5kH",
      "include_colab_link": true
    },
    "kernelspec": {
      "name": "python3",
      "display_name": "Python 3"
    }
  },
  "cells": [
    {
      "cell_type": "markdown",
      "metadata": {
        "id": "view-in-github",
        "colab_type": "text"
      },
      "source": [
        "<a href=\"https://colab.research.google.com/github/jamwine/Tensorflow/blob/master/Tensorflow.ipynb\" target=\"_parent\"><img src=\"https://colab.research.google.com/assets/colab-badge.svg\" alt=\"Open In Colab\"/></a>"
      ]
    },
    {
      "cell_type": "markdown",
      "metadata": {
        "id": "6ZWWEJXajD_r",
        "colab_type": "text"
      },
      "source": [
        "Mounting Google Drive"
      ]
    },
    {
      "cell_type": "code",
      "metadata": {
        "id": "QbvaI0ftfpGE",
        "colab_type": "code",
        "colab": {
          "base_uri": "https://localhost:8080/",
          "height": 35
        },
        "outputId": "d8a0f168-4d8e-4b67-a5a9-53cfedd02317"
      },
      "source": [
        "from google.colab import drive\n",
        "drive.mount('gdrive')"
      ],
      "execution_count": 1,
      "outputs": [
        {
          "output_type": "stream",
          "text": [
            "Drive already mounted at gdrive; to attempt to forcibly remount, call drive.mount(\"gdrive\", force_remount=True).\n"
          ],
          "name": "stdout"
        }
      ]
    },
    {
      "cell_type": "markdown",
      "metadata": {
        "colab_type": "text",
        "id": "deZ36K2XjjRt"
      },
      "source": [
        "Changing Directory to Google Colab Folder"
      ]
    },
    {
      "cell_type": "code",
      "metadata": {
        "id": "TapAWxrIfpNj",
        "colab_type": "code",
        "outputId": "74cf8778-ac5f-4867-9e11-965732985d4f",
        "colab": {
          "base_uri": "https://localhost:8080/",
          "height": 372
        }
      },
      "source": [
        "import os\n",
        "os.chdir('gdrive/My Drive/Colab Notebooks')\n",
        "os.listdir(os.getcwd())"
      ],
      "execution_count": 2,
      "outputs": [
        {
          "output_type": "execute_result",
          "data": {
            "text/plain": [
              "['ImageNetLabels.txt',\n",
              " 'Images',\n",
              " 'variables',\n",
              " 'assets',\n",
              " 'flags.csv',\n",
              " 'flags.gsheet',\n",
              " 'DataMining.ipynb',\n",
              " 'Week 3 Programming Assignment.ipynb',\n",
              " 'model_checkpoints',\n",
              " 'model_checkpoints_5000',\n",
              " 'results.csv',\n",
              " 'config.json',\n",
              " 'lemon.jpg',\n",
              " 'viaduct.jpg',\n",
              " 'water_tower.jpg',\n",
              " 'data',\n",
              " 'saved_model.pb',\n",
              " 'SVHN - Capstone Project',\n",
              " 'Untitled.ipynb',\n",
              " 'Tensorflow']"
            ]
          },
          "metadata": {
            "tags": []
          },
          "execution_count": 2
        }
      ]
    },
    {
      "cell_type": "code",
      "metadata": {
        "id": "fiN4xe6rfpQA",
        "colab_type": "code",
        "colab": {}
      },
      "source": [
        "# !pip install tensorflow==2"
      ],
      "execution_count": 0,
      "outputs": []
    },
    {
      "cell_type": "code",
      "metadata": {
        "id": "EBOKp-zEiICQ",
        "colab_type": "code",
        "outputId": "b38358da-92f4-46d5-c360-99890d83a6ad",
        "colab": {
          "base_uri": "https://localhost:8080/",
          "height": 35
        }
      },
      "source": [
        "import tensorflow as tf\n",
        "print(tf.__version__)"
      ],
      "execution_count": 4,
      "outputs": [
        {
          "output_type": "stream",
          "text": [
            "2.0.0\n"
          ],
          "name": "stdout"
        }
      ]
    },
    {
      "cell_type": "markdown",
      "metadata": {
        "id": "t3KbwOSorcj3",
        "colab_type": "text"
      },
      "source": [
        "Keras is a high-level neural network API, written in Python and capable of running on top of TensorFlow, CNTK, or Theano. \n",
        "\n",
        "TensorFlow Documentation\n",
        " * https://www.tensorflow.org/api_docs/python/tf/keras\n",
        "\n",
        "Keras Documentation\n",
        "* https://keras.io/\n",
        "\n",
        "Jupyter Notebook's TensorFlow 1.x code to TensorFlow 2 code\n",
        " * http://tf2up.ml/\n",
        "\n",
        "\n",
        "\n",
        "### Difference between Sequential and Functional API Models:\n",
        "**Sequential models** are easy and quick. Basically, sequential models contains a sequence of layers with automatic layer interconnection.\n",
        "\n",
        "**Model Class with Functional API** are more detailed, powerful and complex neural networks. The layers are arranged into functional units having a user defined layer connection.\n",
        "\n",
        "* https://www.heatonresearch.com/2017/06/01/hidden-layers.html\n",
        "\n"
      ]
    },
    {
      "cell_type": "markdown",
      "metadata": {
        "id": "FZkgUrwLZfBd",
        "colab_type": "text"
      },
      "source": [
        "***\n",
        "<a id=\"coding_tutorial_1\"></a>\n",
        "## Building a Sequential model"
      ]
    },
    {
      "cell_type": "code",
      "metadata": {
        "id": "EjHq_5JpZfBh",
        "colab_type": "code",
        "colab": {}
      },
      "source": [
        "from tensorflow.keras.models import Sequential\n",
        "from tensorflow.keras.layers import Dense, Flatten, Softmax"
      ],
      "execution_count": 0,
      "outputs": []
    },
    {
      "cell_type": "markdown",
      "metadata": {
        "id": "Djv7NmSeZfBq",
        "colab_type": "text"
      },
      "source": [
        "#### Build a feedforward neural network model"
      ]
    },
    {
      "cell_type": "code",
      "metadata": {
        "id": "fmBS8chmZfBt",
        "colab_type": "code",
        "outputId": "c1cd2d07-41a8-494b-c1a6-7ba6f5768608",
        "colab": {
          "base_uri": "https://localhost:8080/",
          "height": 870
        }
      },
      "source": [
        "# Build the Sequential feedforward neural network model by alternative methods\n",
        "\n",
        "model1 = Sequential([ # list of Keras layers\n",
        "  Flatten(input_shape=(28,28),name='Flatten_Layer'), #(784,) is the one dimensional input size\n",
        "  Dense(16, activation='relu',name='Dense_Layer_1'),\n",
        "  Dense(16, activation='relu',name='Dense_Layer_2'),\n",
        "  Dense(10, activation='softmax',name='Dense_Layer_3'),\n",
        "])\n",
        "model1.summary() # summary() outputs the layers with their shapes, number of trainable parameters\n",
        "\n",
        "model2 = Sequential([\n",
        "  Flatten(input_shape=(28,28),name='Flatten_Layer'),\n",
        "  Dense(16, activation='relu',name='Dense_Layer_1'),\n",
        "  Dense(16, activation='tanh',name='Dense_Layer_2'),\n",
        "  Dense(10,name='Dense_Layer_3'),\n",
        "  Softmax(name='Softmax_Layer') # Defining Softmax layer separately\n",
        "])\n",
        "model2.summary()\n",
        "\n",
        "model3 = Sequential()\n",
        "model3.add(Dense(16,activation='relu',input_shape=(784,),name='Dense_Layer_1')) # Adding layers separately using add()\n",
        "model3.add(Dense(16, activation='sigmoid',name='Dense_Layer_2'))\n",
        "model3.add(Dense(10,activation='softmax',name='Dense_Layer_3'))\n",
        "model3.summary()"
      ],
      "execution_count": 6,
      "outputs": [
        {
          "output_type": "stream",
          "text": [
            "Model: \"sequential\"\n",
            "_________________________________________________________________\n",
            "Layer (type)                 Output Shape              Param #   \n",
            "=================================================================\n",
            "Flatten_Layer (Flatten)      (None, 784)               0         \n",
            "_________________________________________________________________\n",
            "Dense_Layer_1 (Dense)        (None, 16)                12560     \n",
            "_________________________________________________________________\n",
            "Dense_Layer_2 (Dense)        (None, 16)                272       \n",
            "_________________________________________________________________\n",
            "Dense_Layer_3 (Dense)        (None, 10)                170       \n",
            "=================================================================\n",
            "Total params: 13,002\n",
            "Trainable params: 13,002\n",
            "Non-trainable params: 0\n",
            "_________________________________________________________________\n",
            "Model: \"sequential_1\"\n",
            "_________________________________________________________________\n",
            "Layer (type)                 Output Shape              Param #   \n",
            "=================================================================\n",
            "Flatten_Layer (Flatten)      (None, 784)               0         \n",
            "_________________________________________________________________\n",
            "Dense_Layer_1 (Dense)        (None, 16)                12560     \n",
            "_________________________________________________________________\n",
            "Dense_Layer_2 (Dense)        (None, 16)                272       \n",
            "_________________________________________________________________\n",
            "Dense_Layer_3 (Dense)        (None, 10)                170       \n",
            "_________________________________________________________________\n",
            "Softmax_Layer (Softmax)      (None, 10)                0         \n",
            "=================================================================\n",
            "Total params: 13,002\n",
            "Trainable params: 13,002\n",
            "Non-trainable params: 0\n",
            "_________________________________________________________________\n",
            "Model: \"sequential_2\"\n",
            "_________________________________________________________________\n",
            "Layer (type)                 Output Shape              Param #   \n",
            "=================================================================\n",
            "Dense_Layer_1 (Dense)        (None, 16)                12560     \n",
            "_________________________________________________________________\n",
            "Dense_Layer_2 (Dense)        (None, 16)                272       \n",
            "_________________________________________________________________\n",
            "Dense_Layer_3 (Dense)        (None, 10)                170       \n",
            "=================================================================\n",
            "Total params: 13,002\n",
            "Trainable params: 13,002\n",
            "Non-trainable params: 0\n",
            "_________________________________________________________________\n"
          ],
          "name": "stdout"
        }
      ]
    },
    {
      "cell_type": "markdown",
      "metadata": {
        "id": "UcHYAxfg2_Ny",
        "colab_type": "text"
      },
      "source": [
        "model.plot_model() illustrates the model layer hierarchy by showing the connections. The output is a graphic file with presentation quality."
      ]
    },
    {
      "cell_type": "markdown",
      "metadata": {
        "id": "634x3fv0ZfB_",
        "colab_type": "text"
      },
      "source": [
        "***\n",
        "<a id=\"coding_tutorial_2\"></a>\n",
        "## Convolutional and pooling layers"
      ]
    },
    {
      "cell_type": "code",
      "metadata": {
        "id": "CErGrCo4ZfCC",
        "colab_type": "code",
        "colab": {}
      },
      "source": [
        "from tensorflow.keras.models import Sequential\n",
        "from tensorflow.keras.layers import Dense, Flatten, Conv2D, MaxPooling2D"
      ],
      "execution_count": 0,
      "outputs": []
    },
    {
      "cell_type": "markdown",
      "metadata": {
        "id": "LTmA4IOKZfCQ",
        "colab_type": "text"
      },
      "source": [
        "#### Build a convolutional neural network model"
      ]
    },
    {
      "cell_type": "code",
      "metadata": {
        "id": "q10H8-SmZfCS",
        "colab_type": "code",
        "outputId": "5be4d092-e836-4d4c-b3ba-5a4b21160edd",
        "colab": {
          "base_uri": "https://localhost:8080/",
          "height": 1000
        }
      },
      "source": [
        "# Build the Sequential convolutional neural network model\n",
        "\n",
        "model1=Sequential([\n",
        "      Conv2D(16,kernel_size=(3,3),activation='relu',input_shape=(28,28,1),name='Convolutional_layer'), # output shape is (None, 26, 26, 16), 28-(3-1)=26\n",
        "      MaxPooling2D(pool_size=(3,3),name=\"MaxPooling_layer\"), # output shape is (None, 8, 8, 16), 26//3=8\n",
        "      Flatten(name='Flatten_layer'), \n",
        "      Dense(10,activation='softmax',name='Dense_layer')\n",
        "])\n",
        "model1.summary()\n",
        "\n",
        "model2=Sequential([\n",
        "      Conv2D(16,kernel_size=(3,3),activation='relu',padding='SAME',input_shape=(28,28,1),name='Convolutional_layer'), # When padding='SAME', output shape is (None, 28, 28, 16), 28-(0)=28\n",
        "      MaxPooling2D(pool_size=(3,3),name=\"MaxPooling_layer\"), # output shape is (None, 9, 9, 16), 28//3=9\n",
        "      Flatten(name='Flatten_layer'),\n",
        "      Dense(10,activation='softmax',name='Dense_layer')\n",
        "])\n",
        "model2.summary()\n",
        "\n",
        "model3=Sequential([\n",
        "      Conv2D(16,kernel_size=3,activation='relu',padding='SAME',strides=2,input_shape=(28,28,1),name='Convolutional_layer'), # When strides=2 and padding='SAME', output shape is (None, 14, 14, 16), (28-(0))/2=14\n",
        "      MaxPooling2D(pool_size=3,name=\"MaxPooling_layer\"), # output shape is (None, 4, 4, 16), 14//3=4\n",
        "      Flatten(name='Flatten_layer'),\n",
        "      Dense(10,activation='softmax',name='Dense_layer')\n",
        "])\n",
        "model3.summary()\n",
        "\n",
        "model4=Sequential([\n",
        "      Conv2D(16,kernel_size=3,activation='relu',strides=2,input_shape=(28,28,1),name='Convolutional_layer'), # When strides=2, output shape is (None, 13, 13, 16), (28-(2))/2=13\n",
        "      MaxPooling2D(pool_size=2,name=\"MaxPooling_layer\"), # output shape is (None, 6, 6, 16), 13//2=6\n",
        "      Flatten(name='Flatten_layer'),\n",
        "      Dense(10,activation='softmax',name='Dense_layer')\n",
        "])\n",
        "model4.summary()"
      ],
      "execution_count": 8,
      "outputs": [
        {
          "output_type": "stream",
          "text": [
            "Model: \"sequential_3\"\n",
            "_________________________________________________________________\n",
            "Layer (type)                 Output Shape              Param #   \n",
            "=================================================================\n",
            "Convolutional_layer (Conv2D) (None, 26, 26, 16)        160       \n",
            "_________________________________________________________________\n",
            "MaxPooling_layer (MaxPooling (None, 8, 8, 16)          0         \n",
            "_________________________________________________________________\n",
            "Flatten_layer (Flatten)      (None, 1024)              0         \n",
            "_________________________________________________________________\n",
            "Dense_layer (Dense)          (None, 10)                10250     \n",
            "=================================================================\n",
            "Total params: 10,410\n",
            "Trainable params: 10,410\n",
            "Non-trainable params: 0\n",
            "_________________________________________________________________\n",
            "Model: \"sequential_4\"\n",
            "_________________________________________________________________\n",
            "Layer (type)                 Output Shape              Param #   \n",
            "=================================================================\n",
            "Convolutional_layer (Conv2D) (None, 28, 28, 16)        160       \n",
            "_________________________________________________________________\n",
            "MaxPooling_layer (MaxPooling (None, 9, 9, 16)          0         \n",
            "_________________________________________________________________\n",
            "Flatten_layer (Flatten)      (None, 1296)              0         \n",
            "_________________________________________________________________\n",
            "Dense_layer (Dense)          (None, 10)                12970     \n",
            "=================================================================\n",
            "Total params: 13,130\n",
            "Trainable params: 13,130\n",
            "Non-trainable params: 0\n",
            "_________________________________________________________________\n",
            "Model: \"sequential_5\"\n",
            "_________________________________________________________________\n",
            "Layer (type)                 Output Shape              Param #   \n",
            "=================================================================\n",
            "Convolutional_layer (Conv2D) (None, 14, 14, 16)        160       \n",
            "_________________________________________________________________\n",
            "MaxPooling_layer (MaxPooling (None, 4, 4, 16)          0         \n",
            "_________________________________________________________________\n",
            "Flatten_layer (Flatten)      (None, 256)               0         \n",
            "_________________________________________________________________\n",
            "Dense_layer (Dense)          (None, 10)                2570      \n",
            "=================================================================\n",
            "Total params: 2,730\n",
            "Trainable params: 2,730\n",
            "Non-trainable params: 0\n",
            "_________________________________________________________________\n",
            "Model: \"sequential_6\"\n",
            "_________________________________________________________________\n",
            "Layer (type)                 Output Shape              Param #   \n",
            "=================================================================\n",
            "Convolutional_layer (Conv2D) (None, 13, 13, 16)        160       \n",
            "_________________________________________________________________\n",
            "MaxPooling_layer (MaxPooling (None, 6, 6, 16)          0         \n",
            "_________________________________________________________________\n",
            "Flatten_layer (Flatten)      (None, 576)               0         \n",
            "_________________________________________________________________\n",
            "Dense_layer (Dense)          (None, 10)                5770      \n",
            "=================================================================\n",
            "Total params: 5,930\n",
            "Trainable params: 5,930\n",
            "Non-trainable params: 0\n",
            "_________________________________________________________________\n"
          ],
          "name": "stdout"
        }
      ]
    },
    {
      "cell_type": "markdown",
      "metadata": {
        "id": "-AMNmQquGi0a",
        "colab_type": "text"
      },
      "source": [
        "### Default weights and biases\n",
        "\n",
        "In the above models, we have not specified the initial values of the weights and biases in each layer of our neural networks. The default values of the weights and biases in TensorFlow depend on the type of layers we are using. \n",
        "\n",
        "For example, in a `Dense` layer, the biases are set to zero (`zeros`) by default, while the weights are set according to `glorot_uniform`, the Glorot uniform initialiser. The Glorot uniform initialiser draws the weights uniformly at random from the closed interval $[-c,c]$, where $$c = \\sqrt{\\frac{6}{n_{input}+n_{output}}}$$\n",
        "\n",
        "and $n_{input}$ and $n_{output}$ are the number of inputs to, and outputs from the layer respectively.\n",
        "\n",
        "### Initialising own weights and biases\n",
        "\n",
        "When we construct a model in TensorFlow, each layer has optional arguments `kernel_initialiser` and `bias_initialiser`, which are used to set the weights and biases respectively.\n",
        "\n",
        "If a layer has no weights or biases (e.g. it is a max pooling layer), then trying to set either `kernel_initialiser` or `bias_initialiser` will throw an error.\n",
        "\n",
        "### Custom weight and bias initialisers\n",
        "Initializers must take in two arguments, the `shape` of the tensor to be initialised, and its `dtype`."
      ]
    },
    {
      "cell_type": "code",
      "metadata": {
        "id": "bjkqdEKWHQQZ",
        "colab_type": "code",
        "outputId": "475314d5-3a58-4152-b1e9-7e4b58b8536a",
        "colab": {
          "base_uri": "https://localhost:8080/",
          "height": 408
        }
      },
      "source": [
        "#Constructing a model\n",
        "from tensorflow.keras.layers import Conv1D, MaxPooling1D\n",
        "import tensorflow.keras.backend as K\n",
        "\n",
        "model_with_weights = Sequential([\n",
        "    Conv1D(filters=16, kernel_size=3, input_shape=(128, 64), kernel_initializer='random_uniform', bias_initializer=\"zeros\", activation='relu', name='Convolution_1D_layer'),\n",
        "    MaxPooling1D(pool_size=4, name='Max_pooling_1D_layer'),\n",
        "    Flatten(name='Flatten_layer'),\n",
        "    Dense(64, kernel_initializer='he_uniform', bias_initializer='ones', activation='relu', name='Dense_layer_1'),\n",
        "])\n",
        "\n",
        "#Adding some layers to our model\n",
        "model_with_weights.add(Dense(64, \n",
        "                kernel_initializer=tf.keras.initializers.RandomNormal(mean=0.0, stddev=0.05), \n",
        "                bias_initializer=tf.keras.initializers.Constant(value=0.4), \n",
        "                activation='relu', name='Dense_layer_2'),)\n",
        "model_with_weights.add(Dense(8, \n",
        "                kernel_initializer=tf.keras.initializers.Orthogonal(gain=1.0, seed=None), \n",
        "                bias_initializer=tf.keras.initializers.Constant(value=0.4), \n",
        "                activation='relu', name='Dense_layer_3'))\n",
        "\n",
        "#Example of a custom initializer\n",
        "def my_init(shape, dtype=None):\n",
        "    return K.random_normal(shape, dtype=dtype)\n",
        "model_with_weights.add(Dense(64, kernel_initializer=my_init, name='Dense_layer_4'))\n",
        "\n",
        "model_with_weights.summary()"
      ],
      "execution_count": 9,
      "outputs": [
        {
          "output_type": "stream",
          "text": [
            "Model: \"sequential_7\"\n",
            "_________________________________________________________________\n",
            "Layer (type)                 Output Shape              Param #   \n",
            "=================================================================\n",
            "Convolution_1D_layer (Conv1D (None, 126, 16)           3088      \n",
            "_________________________________________________________________\n",
            "Max_pooling_1D_layer (MaxPoo (None, 31, 16)            0         \n",
            "_________________________________________________________________\n",
            "Flatten_layer (Flatten)      (None, 496)               0         \n",
            "_________________________________________________________________\n",
            "Dense_layer_1 (Dense)        (None, 64)                31808     \n",
            "_________________________________________________________________\n",
            "Dense_layer_2 (Dense)        (None, 64)                4160      \n",
            "_________________________________________________________________\n",
            "Dense_layer_3 (Dense)        (None, 8)                 520       \n",
            "_________________________________________________________________\n",
            "Dense_layer_4 (Dense)        (None, 64)                576       \n",
            "=================================================================\n",
            "Total params: 40,152\n",
            "Trainable params: 40,152\n",
            "Non-trainable params: 0\n",
            "_________________________________________________________________\n"
          ],
          "name": "stdout"
        }
      ]
    },
    {
      "cell_type": "markdown",
      "metadata": {
        "id": "HWfjWfflQEGE",
        "colab_type": "text"
      },
      "source": [
        "### Visualising the initialised weights and biases\n",
        "---\n",
        "Finally, the effect of our initialisers on the weights and biases can be visualized by plotting histograms of the resulting values. \n",
        "\n",
        "Compare these plots with the selected initialisers for each layer above."
      ]
    },
    {
      "cell_type": "code",
      "metadata": {
        "id": "uku9N1mHOU2_",
        "colab_type": "code",
        "outputId": "3475f140-8838-4730-d931-d11707dc9f2c",
        "colab": {
          "base_uri": "https://localhost:8080/",
          "height": 934
        }
      },
      "source": [
        "import matplotlib.pyplot as plt\n",
        "\n",
        "fig, axes = plt.subplots(5, 2, figsize=(12,16))\n",
        "fig.subplots_adjust(hspace=0.5, wspace=0.5)\n",
        "\n",
        "# Filter out the pooling and flatten layers, that don't have any weights\n",
        "weight_layers = [layer for layer in model_with_weights.layers if len(layer.weights) > 0]\n",
        "\n",
        "for i, layer in enumerate(weight_layers):\n",
        "    for j in [0, 1]:\n",
        "        axes[i, j].hist(layer.weights[j].numpy().flatten(), align='left')\n",
        "        axes[i, j].set_title(layer.weights[j].name)"
      ],
      "execution_count": 10,
      "outputs": [
        {
          "output_type": "display_data",
          "data": {
            "image/png": "[encoded data removed]",
            "text/plain": [
              "<Figure size 864x1152 with 10 Axes>"
            ]
          },
          "metadata": {
            "tags": []
          }
        }
      ]
    },
    {
      "cell_type": "markdown",
      "metadata": {
        "id": "7Bsn2TBnZfCj",
        "colab_type": "text"
      },
      "source": [
        "***\n",
        "<a id=\"coding_tutorial_3\"></a>\n",
        "## The compile method"
      ]
    },
    {
      "cell_type": "markdown",
      "metadata": {
        "id": "bIDz6nr5SgGj",
        "colab_type": "text"
      },
      "source": [
        "### Case 1 - Binary Classification with sigmoid activation function\n",
        "Suppose we are training a model for a binary classification problem with a sigmoid activation function. Given a training example with input $x^{(i)}$, the model will output a float between 0 and 1. Based on whether this float is less than or greater than our \"threshold\" (which by default is set at 0.5), we round the float to get the predicted classification $y_{pred}$ from the model.\n",
        "\n",
        "The accuracy metric compares the value of $y_{pred}$ on each training example with the true output, the one-hot coded vector $y_{true}^{(i)}$ from our training data.\n",
        "\n",
        "Let $$\\delta(y_{pred}^{(i)},y_{true}^{(i)}) = \\begin{cases} 1 & y_{pred}=y_{true}\\\\\n",
        "0 & y_{pred}\\neq y_{true} \\end{cases}$$\n",
        "\n",
        "The accuracy metric  computes the mean of $\\delta(y_{pred}^{(i)},y_{true}^{(i)})$ over all training examples.\n",
        "\n",
        "$$ accuracy = \\frac{1}{N} \\sum_{i=1}^N \\delta(y_{pred}^{(i)},y_{true}^{(i)}) $$"
      ]
    },
    {
      "cell_type": "code",
      "metadata": {
        "id": "Swq0EKg2TcT_",
        "colab_type": "code",
        "outputId": "9884469e-ab1b-4793-c171-ef3557629cee",
        "colab": {
          "base_uri": "https://localhost:8080/",
          "height": 35
        }
      },
      "source": [
        "# Sigmoid activation function\n",
        "\n",
        "y_true = tf.constant([0.0,1.0,1.0])\n",
        "y_pred = tf.constant([0.4,0.8, 0.3])\n",
        "accuracy = K.mean(K.equal(y_true, K.round(y_pred)))\n",
        "accuracy"
      ],
      "execution_count": 11,
      "outputs": [
        {
          "output_type": "execute_result",
          "data": {
            "text/plain": [
              "<tf.Tensor: id=738, shape=(), dtype=float32, numpy=0.6666667>"
            ]
          },
          "metadata": {
            "tags": []
          },
          "execution_count": 11
        }
      ]
    },
    {
      "cell_type": "markdown",
      "metadata": {
        "id": "5tMvKhqfThkm",
        "colab_type": "text"
      },
      "source": [
        "### Case 2 - Categorical Classification\n",
        "Now suppose we are training a model for a classification problem which should sort data into $m>2$ different classes using a softmax activation function in the last layer.\n",
        "\n",
        "Given a training example with input $x^{(i)}$, the model will output a tensor of probabilities $p_1, p_2, \\dots p_m$, giving the likelihood (according to the model) that $x^{(i)}$ falls into each class.\n",
        "\n",
        "The accuracy metric works by determining the largest argument in the $y_{pred}^{(i)}$ tensor, and compares its index to the index of the maximum value of $y_{true}^{(i)}$ to determine $\\delta(y_{pred}^{(i)},y_{true}^{(i)})$. It then computes the accuracy in the same way as for the binary classification case.\n",
        "\n",
        "$$ accuracy = \\frac{1}{N} \\sum_{i=1}^N \\delta(y_{pred}^{(i)},y_{true}^{(i)}) $$\n",
        "\n",
        "In the backend of Keras, the accuracy metric is implemented slightly differently depending on whether we have a binary classification problem ($m=2$) or a categorical classifcation problem. Note that the accuracy for binary classification problems is the same, no matter if we use a sigmoid or softmax activation function to obtain the output."
      ]
    },
    {
      "cell_type": "code",
      "metadata": {
        "id": "uKCuoxZRTkm5",
        "colab_type": "code",
        "outputId": "8d26fb39-e837-4442-e27d-eb2993bbf679",
        "colab": {
          "base_uri": "https://localhost:8080/",
          "height": 35
        }
      },
      "source": [
        "# Binary classification with softmax\n",
        "\n",
        "y_true = tf.constant([[0.0,1.0],[1.0,0.0],[1.0,0.0],[0.0,1.0]])\n",
        "y_pred = tf.constant([[0.4,0.6], [0.3,0.7], [0.05,0.95],[0.33,0.67]])\n",
        "accuracy =K.mean(K.equal(y_true, K.round(y_pred)))\n",
        "accuracy"
      ],
      "execution_count": 12,
      "outputs": [
        {
          "output_type": "execute_result",
          "data": {
            "text/plain": [
              "<tf.Tensor: id=745, shape=(), dtype=float32, numpy=0.5>"
            ]
          },
          "metadata": {
            "tags": []
          },
          "execution_count": 12
        }
      ]
    },
    {
      "cell_type": "code",
      "metadata": {
        "id": "NgQ8gP1sToKK",
        "colab_type": "code",
        "outputId": "a846fd88-c975-4e09-a48b-9d925d26c505",
        "colab": {
          "base_uri": "https://localhost:8080/",
          "height": 35
        }
      },
      "source": [
        "# Categorical classification with m>2\n",
        "\n",
        "y_true = tf.constant([[0.0,1.0,0.0,0.0],[1.0,0.0,0.0,0.0],[0.0,0.0,1.0,0.0]])\n",
        "y_pred = tf.constant([[0.4,0.6,0.0,0.0], [0.3,0.2,0.1,0.4], [0.05,0.35,0.5,0.1]])\n",
        "accuracy = K.mean(K.equal(K.argmax(y_true, axis=-1), K.argmax(y_pred, axis=-1)))\n",
        "accuracy"
      ],
      "execution_count": 13,
      "outputs": [
        {
          "output_type": "execute_result",
          "data": {
            "text/plain": [
              "<tf.Tensor: id=755, shape=(), dtype=float32, numpy=0.6666667>"
            ]
          },
          "metadata": {
            "tags": []
          },
          "execution_count": 13
        }
      ]
    },
    {
      "cell_type": "markdown",
      "metadata": {
        "id": "4sQLuIjMVaAy",
        "colab_type": "text"
      },
      "source": [
        "### Sparse categorical accuracy\n",
        "\n",
        "This is a very similar metric to categorical accuracy with one major difference - the label $y_{true}$ of each training example is not expected to be a one-hot encoded vector, but to be a tensor consisting of a single integer. This integer is then compared to the index of the maximum argument of $y_{pred}$ to determine $\\delta(y_{pred}^{(i)},y_{true}^{(i)})$.\n",
        "\n",
        "### (Sparse) Top $k$-categorical accuracy \n",
        "In top $k$-categorical accuracy, instead of computing how often the model correctly predicts the label of a training example, the metric computes how often the model has $y_{true}$ in the top $k$ of its predictions. By default, $k=5$.\n",
        "\n",
        "As before, the main difference between top $k$-categorical accuracy and its sparse version is that the former assumes $y_{true}$ is a one-hot encoded vector, whereas the sparse version assumes $y_{true}$ is an integer.\n",
        "\n",
        "### Custom metrics\n",
        "A custom metric takes in (at least) two arguments called `y_true` and `y_pred` and then output a single tensor value."
      ]
    },
    {
      "cell_type": "code",
      "metadata": {
        "id": "YVkQyrDTZfCu",
        "colab_type": "code",
        "outputId": "9c7b23dc-af20-4776-e248-b71c233f862f",
        "colab": {
          "base_uri": "https://localhost:8080/",
          "height": 197
        }
      },
      "source": [
        "# Define the model optimizer, loss function and metrics\n",
        "\n",
        "model1.compile(optimizer='adam', # 'sgd', 'rmsprop', 'adadelta'\n",
        "               loss='sparse_categorical_crossentropy', # 'categorical_crossentropy', 'binary_crossentropy', 'mean_squared_error'\n",
        "               metrics=['accuracy','mae']) # 'mape'\n",
        "\n",
        "model2.compile(optimizer=tf.keras.optimizers.SGD(),\n",
        "               loss=tf.keras.losses.BinaryCrossentropy(), \n",
        "               metrics=['top_k_categorical_accuracy',tf.keras.metrics.MeanAbsoluteError()])\n",
        "\n",
        "model3.compile(optimizer=tf.keras.optimizers.SGD(learning_rate=0.001, momentum=0.9, nesterov=True),\n",
        "               loss=tf.keras.losses.BinaryCrossentropy(from_logits=True), \n",
        "               metrics=[tf.keras.metrics.BinaryAccuracy(threshold=0.7),tf.keras.metrics.MeanAbsoluteError()])\n",
        "\n",
        "# Define a custom metric\n",
        "def mean_pred(y_true, y_pred):\n",
        "    return K.mean(y_pred)\n",
        "\n",
        "# Specify k instead with the sparse top-k categorical accuracy\n",
        "model4.compile(optimizer='adam',\n",
        "              loss='sparse_categorical_crossentropy',\n",
        "              metrics=[mean_pred])\n",
        "\n",
        "print('Optimizers:\\n',model1.optimizer,model2.optimizer,model3.optimizer,model4.optimizer,'\\n')\n",
        "print('Losses:\\n',model1.loss,model2.loss,model3.loss,model4.loss,'\\n')\n",
        "print('Metrics:\\n',model1.metrics,model2.metrics,model3.metrics,model4.metrics,'\\n')"
      ],
      "execution_count": 14,
      "outputs": [
        {
          "output_type": "stream",
          "text": [
            "Optimizers:\n",
            " <tensorflow.python.keras.optimizer_v2.adam.Adam object at 0x7f53732a6080> <tensorflow.python.keras.optimizer_v2.gradient_descent.SGD object at 0x7f53732a6198> <tensorflow.python.keras.optimizer_v2.gradient_descent.SGD object at 0x7f53732a6048> <tensorflow.python.keras.optimizer_v2.adam.Adam object at 0x7f53731521d0> \n",
            "\n",
            "Losses:\n",
            " sparse_categorical_crossentropy <tensorflow.python.keras.losses.BinaryCrossentropy object at 0x7f5378e3fa90> <tensorflow.python.keras.losses.BinaryCrossentropy object at 0x7f53731b05c0> sparse_categorical_crossentropy \n",
            "\n",
            "Metrics:\n",
            " [<tensorflow.python.keras.metrics.MeanMetricWrapper object at 0x7f5373230e10>, <tensorflow.python.keras.metrics.MeanMetricWrapper object at 0x7f5373230a20>] [<tensorflow.python.keras.metrics.MeanMetricWrapper object at 0x7f53731b0198>, <tensorflow.python.keras.metrics.MeanAbsoluteError object at 0x7f5378e3f470>] [<tensorflow.python.keras.metrics.BinaryAccuracy object at 0x7f53731b0cc0>, <tensorflow.python.keras.metrics.MeanAbsoluteError object at 0x7f53731316d8>] [<tensorflow.python.keras.metrics.MeanMetricWrapper object at 0x7f53730bdc50>] \n",
            "\n"
          ],
          "name": "stdout"
        }
      ]
    },
    {
      "cell_type": "markdown",
      "metadata": {
        "id": "tPLuoW4sZfDr",
        "colab_type": "text"
      },
      "source": [
        "***\n",
        "<a id=\"coding_tutorial_4\"></a>\n",
        "## The fit method"
      ]
    },
    {
      "cell_type": "markdown",
      "metadata": {
        "id": "y33ue-rhZfD5",
        "colab_type": "text"
      },
      "source": [
        "#### Load the data"
      ]
    },
    {
      "cell_type": "code",
      "metadata": {
        "id": "2Rdz4VOkZfD9",
        "colab_type": "code",
        "outputId": "106ca5ef-6644-46af-b58c-7a4dac05f127",
        "colab": {
          "base_uri": "https://localhost:8080/",
          "height": 177
        }
      },
      "source": [
        "from tensorflow.keras.preprocessing import image\n",
        "import matplotlib.pyplot as plt\n",
        "import numpy as np\n",
        "import pandas as pd\n",
        "\n",
        "# Load the Fashion-MNIST dataset\n",
        "fashion_mnist_data = tf.keras.datasets.fashion_mnist\n",
        "(train_images, train_labels), (test_images, test_labels) = fashion_mnist_data.load_data()\n",
        "\n",
        "# Print the shape of the training data\n",
        "train_images.shape"
      ],
      "execution_count": 16,
      "outputs": [
        {
          "output_type": "stream",
          "text": [
            "Downloading data from https://storage.googleapis.com/tensorflow/tf-keras-datasets/train-labels-idx1-ubyte.gz\n",
            "32768/29515 [=================================] - 0s 0us/step\n",
            "Downloading data from https://storage.googleapis.com/tensorflow/tf-keras-datasets/train-images-idx3-ubyte.gz\n",
            "26427392/26421880 [==============================] - 0s 0us/step\n",
            "Downloading data from https://storage.googleapis.com/tensorflow/tf-keras-datasets/t10k-labels-idx1-ubyte.gz\n",
            "8192/5148 [===============================================] - 0s 0us/step\n",
            "Downloading data from https://storage.googleapis.com/tensorflow/tf-keras-datasets/t10k-images-idx3-ubyte.gz\n",
            "4423680/4422102 [==============================] - 0s 0us/step\n"
          ],
          "name": "stdout"
        },
        {
          "output_type": "execute_result",
          "data": {
            "text/plain": [
              "(60000, 28, 28)"
            ]
          },
          "metadata": {
            "tags": []
          },
          "execution_count": 16
        }
      ]
    },
    {
      "cell_type": "code",
      "metadata": {
        "id": "PKBlt2yaZfEZ",
        "colab_type": "code",
        "outputId": "0702bc95-e4ee-45cc-b873-61e3d5d97c06",
        "colab": {
          "base_uri": "https://localhost:8080/",
          "height": 283
        }
      },
      "source": [
        "# Define the labels\n",
        "\n",
        "labels = [\n",
        "    'T-shirt/top',\n",
        "    'Trouser',\n",
        "    'Pullover',\n",
        "    'Dress',\n",
        "    'Coat',\n",
        "    'Sandal',\n",
        "    'Shirt',\n",
        "    'Sneaker',\n",
        "    'Bag',\n",
        "    'Ankle boot'\n",
        "]\n",
        "\n",
        "# Rescale the image values so that they lie in between 0 and 1.\n",
        "train_images=train_images/255.0\n",
        "test_images=test_images/255.0\n",
        "\n",
        "# Display one of the images\n",
        "i=0\n",
        "img=train_images[i,:,:]\n",
        "plt.imshow(img)\n",
        "print(f'label: {labels[train_labels[i]]}')"
      ],
      "execution_count": 17,
      "outputs": [
        {
          "output_type": "stream",
          "text": [
            "label: Ankle boot\n"
          ],
          "name": "stdout"
        },
        {
          "output_type": "display_data",
          "data": {
            "image/png": "[encoded data removed]",
            "text/plain": [
              "<Figure size 432x288 with 1 Axes>"
            ]
          },
          "metadata": {
            "tags": []
          }
        }
      ]
    },
    {
      "cell_type": "code",
      "metadata": {
        "id": "9GcFZncIZfE4",
        "colab_type": "code",
        "outputId": "fc5ebbc1-fd0b-4441-cc7f-bbc28c275ea1",
        "colab": {
          "base_uri": "https://localhost:8080/",
          "height": 319
        }
      },
      "source": [
        "# Fit the model\n",
        "history1 = model1.fit(train_images[...,np.newaxis],train_labels,epochs=8,batch_size=256)"
      ],
      "execution_count": 18,
      "outputs": [
        {
          "output_type": "stream",
          "text": [
            "Train on 60000 samples\n",
            "Epoch 1/8\n",
            "60000/60000 [==============================] - 15s 253us/sample - loss: 0.8521 - accuracy: 0.7306 - mae: 4.4200\n",
            "Epoch 2/8\n",
            "60000/60000 [==============================] - 15s 242us/sample - loss: 0.4827 - accuracy: 0.8321 - mae: 4.4200\n",
            "Epoch 3/8\n",
            "60000/60000 [==============================] - 15s 243us/sample - loss: 0.4253 - accuracy: 0.8532 - mae: 4.4200\n",
            "Epoch 4/8\n",
            "60000/60000 [==============================] - 15s 243us/sample - loss: 0.3953 - accuracy: 0.8628 - mae: 4.4200\n",
            "Epoch 5/8\n",
            "60000/60000 [==============================] - 15s 243us/sample - loss: 0.3782 - accuracy: 0.8679 - mae: 4.4200\n",
            "Epoch 6/8\n",
            "60000/60000 [==============================] - 15s 242us/sample - loss: 0.3659 - accuracy: 0.8721 - mae: 4.4200\n",
            "Epoch 7/8\n",
            "60000/60000 [==============================] - 15s 242us/sample - loss: 0.3552 - accuracy: 0.8770 - mae: 4.4200\n",
            "Epoch 8/8\n",
            "60000/60000 [==============================] - 15s 244us/sample - loss: 0.3468 - accuracy: 0.8790 - mae: 4.4200\n"
          ],
          "name": "stdout"
        }
      ]
    },
    {
      "cell_type": "markdown",
      "metadata": {
        "id": "a-HQDKFFZfFH",
        "colab_type": "text"
      },
      "source": [
        "#### Plot training history"
      ]
    },
    {
      "cell_type": "code",
      "metadata": {
        "id": "xHeaLZ2qZfFL",
        "colab_type": "code",
        "outputId": "11444d05-543f-4a41-d78e-54c82e9aed16",
        "colab": {
          "base_uri": "https://localhost:8080/",
          "height": 194
        }
      },
      "source": [
        "# Load the history into a pandas Dataframe\n",
        "\n",
        "df1=pd.DataFrame(history1.history)\n",
        "df1.head()"
      ],
      "execution_count": 19,
      "outputs": [
        {
          "output_type": "execute_result",
          "data": {
            "text/html": [
              "<div>\n",
              "<style scoped>\n",
              "    .dataframe tbody tr th:only-of-type {\n",
              "        vertical-align: middle;\n",
              "    }\n",
              "\n",
              "    .dataframe tbody tr th {\n",
              "        vertical-align: top;\n",
              "    }\n",
              "\n",
              "    .dataframe thead th {\n",
              "        text-align: right;\n",
              "    }\n",
              "</style>\n",
              "<table border=\"1\" class=\"dataframe\">\n",
              "  <thead>\n",
              "    <tr style=\"text-align: right;\">\n",
              "      <th></th>\n",
              "      <th>loss</th>\n",
              "      <th>accuracy</th>\n",
              "      <th>mae</th>\n",
              "    </tr>\n",
              "  </thead>\n",
              "  <tbody>\n",
              "    <tr>\n",
              "      <th>0</th>\n",
              "      <td>0.852149</td>\n",
              "      <td>0.730567</td>\n",
              "      <td>4.420002</td>\n",
              "    </tr>\n",
              "    <tr>\n",
              "      <th>1</th>\n",
              "      <td>0.482745</td>\n",
              "      <td>0.832133</td>\n",
              "      <td>4.420000</td>\n",
              "    </tr>\n",
              "    <tr>\n",
              "      <th>2</th>\n",
              "      <td>0.425349</td>\n",
              "      <td>0.853167</td>\n",
              "      <td>4.420001</td>\n",
              "    </tr>\n",
              "    <tr>\n",
              "      <th>3</th>\n",
              "      <td>0.395272</td>\n",
              "      <td>0.862833</td>\n",
              "      <td>4.419998</td>\n",
              "    </tr>\n",
              "    <tr>\n",
              "      <th>4</th>\n",
              "      <td>0.378220</td>\n",
              "      <td>0.867933</td>\n",
              "      <td>4.420001</td>\n",
              "    </tr>\n",
              "  </tbody>\n",
              "</table>\n",
              "</div>"
            ],
            "text/plain": [
              "       loss  accuracy       mae\n",
              "0  0.852149  0.730567  4.420002\n",
              "1  0.482745  0.832133  4.420000\n",
              "2  0.425349  0.853167  4.420001\n",
              "3  0.395272  0.862833  4.419998\n",
              "4  0.378220  0.867933  4.420001"
            ]
          },
          "metadata": {
            "tags": []
          },
          "execution_count": 19
        }
      ]
    },
    {
      "cell_type": "code",
      "metadata": {
        "id": "qU_70y4xZfFb",
        "colab_type": "code",
        "outputId": "e33f2e2c-c525-486d-be80-4e0605f1017c",
        "colab": {
          "base_uri": "https://localhost:8080/",
          "height": 295
        }
      },
      "source": [
        "# Make a plot for the loss\n",
        "\n",
        "loss_plot=df1.plot(y='loss',title='Loss vs. Epochs',legend=False)\n",
        "loss_plot.set(xlabel='Epochs',ylabel='Loss');"
      ],
      "execution_count": 20,
      "outputs": [
        {
          "output_type": "display_data",
          "data": {
            "image/png": "[encoded data removed]",
            "text/plain": [
              "<Figure size 432x288 with 1 Axes>"
            ]
          },
          "metadata": {
            "tags": []
          }
        }
      ]
    },
    {
      "cell_type": "code",
      "metadata": {
        "id": "47uyJHjdZfFl",
        "colab_type": "code",
        "outputId": "48406a28-b790-43e9-b5f6-157bb87d0a87",
        "colab": {
          "base_uri": "https://localhost:8080/",
          "height": 295
        }
      },
      "source": [
        "# Make a plot for the accuracy\n",
        "\n",
        "acc_plot=df1.plot(y='accuracy',title='Accuracy vs. Epochs',legend=False)\n",
        "acc_plot.set(xlabel='Epochs',ylabel='Accuracy');"
      ],
      "execution_count": 21,
      "outputs": [
        {
          "output_type": "display_data",
          "data": {
            "image/png": "[encoded data removed]",
            "text/plain": [
              "<Figure size 432x288 with 1 Axes>"
            ]
          },
          "metadata": {
            "tags": []
          }
        }
      ]
    },
    {
      "cell_type": "code",
      "metadata": {
        "id": "jEO2DvQ1ZfF2",
        "colab_type": "code",
        "outputId": "ce7a0b1e-952d-4359-d684-ded46109edaf",
        "colab": {
          "base_uri": "https://localhost:8080/",
          "height": 295
        }
      },
      "source": [
        "# Make a plot for the additional metric\n",
        "\n",
        "mae_plot=df1.plot(y='mae',title='MAE vs. Epochs',legend=False)\n",
        "mae_plot.set(xlabel='Epochs',ylabel='MAE');"
      ],
      "execution_count": 22,
      "outputs": [
        {
          "output_type": "display_data",
          "data": {
            "image/png": "[encoded data removed]",
            "text/plain": [
              "<Figure size 432x288 with 1 Axes>"
            ]
          },
          "metadata": {
            "tags": []
          }
        }
      ]
    },
    {
      "cell_type": "markdown",
      "metadata": {
        "id": "TZF3UgGRZfGC",
        "colab_type": "text"
      },
      "source": [
        "***\n",
        "<a id=\"coding_tutorial_5\"></a>\n",
        "## The evaluate and predict methods"
      ]
    },
    {
      "cell_type": "markdown",
      "metadata": {
        "id": "pTNjpo9CZfGN",
        "colab_type": "text"
      },
      "source": [
        "#### Evaluate the model on the test set"
      ]
    },
    {
      "cell_type": "code",
      "metadata": {
        "id": "B02ME8G2ZfGQ",
        "colab_type": "code",
        "outputId": "16b0b97c-b054-402d-c225-0c2b8eab78d9",
        "colab": {
          "base_uri": "https://localhost:8080/",
          "height": 35
        }
      },
      "source": [
        "# Evaluate the model\n",
        "\n",
        "test_loss, test_accuracy, test_mae= model1.evaluate(test_images[...,np.newaxis],test_labels, verbose=2)"
      ],
      "execution_count": 23,
      "outputs": [
        {
          "output_type": "stream",
          "text": [
            "10000/1 - 2s - loss: 0.3460 - accuracy: 0.8671 - mae: 4.4200\n"
          ],
          "name": "stdout"
        }
      ]
    },
    {
      "cell_type": "markdown",
      "metadata": {
        "id": "F29eZMavZfGb",
        "colab_type": "text"
      },
      "source": [
        "#### Make predictions from the model"
      ]
    },
    {
      "cell_type": "code",
      "metadata": {
        "id": "TYd_iY5LZfGd",
        "colab_type": "code",
        "outputId": "d97f95b2-8b91-40e2-be1a-961b8a64da86",
        "colab": {
          "base_uri": "https://localhost:8080/",
          "height": 283
        }
      },
      "source": [
        "# Choose a random test image\n",
        "\n",
        "random_inx = np.random.choice(test_images.shape[0])\n",
        "\n",
        "test_image = test_images[random_inx]\n",
        "plt.imshow(test_image)\n",
        "plt.show()\n",
        "print(f\"Label: {labels[test_labels[random_inx]]}\")"
      ],
      "execution_count": 24,
      "outputs": [
        {
          "output_type": "display_data",
          "data": {
            "image/png": "[encoded data removed]",
            "text/plain": [
              "<Figure size 432x288 with 1 Axes>"
            ]
          },
          "metadata": {
            "tags": []
          }
        },
        {
          "output_type": "stream",
          "text": [
            "Label: Trouser\n"
          ],
          "name": "stdout"
        }
      ]
    },
    {
      "cell_type": "code",
      "metadata": {
        "id": "ZR0ZvvldZfHH",
        "colab_type": "code",
        "outputId": "4a7d2e1a-3588-42eb-e338-9e71baefe31e",
        "colab": {
          "base_uri": "https://localhost:8080/",
          "height": 35
        }
      },
      "source": [
        "# Get the model predictions\n",
        "\n",
        "predictions=model1.predict(test_image[np.newaxis,...,np.newaxis])\n",
        "print(f\"Model Prediction: {labels[np.argmax(predictions)]}\")"
      ],
      "execution_count": 25,
      "outputs": [
        {
          "output_type": "stream",
          "text": [
            "Model Prediction: Trouser\n"
          ],
          "name": "stdout"
        }
      ]
    },
    {
      "cell_type": "markdown",
      "metadata": {
        "id": "VzXOHmrcgkt2",
        "colab_type": "text"
      },
      "source": [
        "## Model Validation and Regularization\n",
        "Regularization techniques are used into the model training as they have the effect of constraining the model capacity in preventing overfitting. "
      ]
    },
    {
      "cell_type": "code",
      "metadata": {
        "id": "f1qXIu_vk_TL",
        "colab_type": "code",
        "colab": {}
      },
      "source": [
        "# Load the dataset\n",
        "\n",
        "from sklearn.datasets import load_diabetes\n",
        "diabetes_dataset = load_diabetes()"
      ],
      "execution_count": 0,
      "outputs": []
    },
    {
      "cell_type": "code",
      "metadata": {
        "id": "Jkr0IMuhoJBJ",
        "colab_type": "code",
        "colab": {}
      },
      "source": [
        "# Save the input and target variables\n",
        "\n",
        "from sklearn.model_selection import train_test_split\n",
        "\n",
        "data = diabetes_dataset['data']\n",
        "targets = diabetes_dataset['target']"
      ],
      "execution_count": 0,
      "outputs": []
    },
    {
      "cell_type": "code",
      "metadata": {
        "id": "1mclQ6odoJD7",
        "colab_type": "code",
        "colab": {}
      },
      "source": [
        "# Normalise the target data (this will make clearer training curves)\n",
        "\n",
        "targets = (targets - targets.mean(axis=0)) / (targets.std())"
      ],
      "execution_count": 0,
      "outputs": []
    },
    {
      "cell_type": "code",
      "metadata": {
        "id": "KSQdsKuwoJGr",
        "colab_type": "code",
        "outputId": "01556378-60ec-4ee5-829b-e7bd88aff853",
        "colab": {
          "base_uri": "https://localhost:8080/",
          "height": 88
        }
      },
      "source": [
        "# Split the dataset into training and test datasets \n",
        "\n",
        "train_data, test_data, train_targets, test_targets = train_test_split(data, targets, test_size=0.1)\n",
        "\n",
        "print(train_data.shape)\n",
        "print(test_data.shape)\n",
        "print(train_targets.shape)\n",
        "print(test_targets.shape)"
      ],
      "execution_count": 29,
      "outputs": [
        {
          "output_type": "stream",
          "text": [
            "(397, 10)\n",
            "(45, 10)\n",
            "(397,)\n",
            "(45,)\n"
          ],
          "name": "stdout"
        }
      ]
    },
    {
      "cell_type": "code",
      "metadata": {
        "id": "bZ_w0LlToJJT",
        "colab_type": "code",
        "colab": {}
      },
      "source": [
        "from tensorflow.keras.models import Sequential\n",
        "from tensorflow.keras.layers import Flatten, Dense, Conv2D, MaxPooling2D, BatchNormalization, Dropout\n",
        "from tensorflow.keras import regularizers\n",
        "\n",
        "# Building models\n",
        "\n",
        "def get_model():\n",
        "  model = Sequential([\n",
        "    Dense(128, input_shape=[train_data.shape[1],], activation=\"relu\"),\n",
        "    Dense(128, activation='relu'),\n",
        "    Dense(128, activation='relu'),\n",
        "    Dense(128, activation='relu'),\n",
        "    Dense(128, activation='relu'),\n",
        "    Dense(128, activation='relu'),\n",
        "    Dense(1)\n",
        "])\n",
        "  return model\n",
        "\n",
        "def get_regularised_model(wd,rate): # wd represents weight decay and rate represents Dropout rate\n",
        "  regularised_model = Sequential([\n",
        "    Dense(128, kernel_regularizer=regularizers.l2(wd), input_shape=[train_data.shape[1],], activation=\"relu\"),\n",
        "    Dropout(rate),\n",
        "    Dense(128, kernel_regularizer=regularizers.l2(wd), activation='relu'),\n",
        "    Dropout(rate),\n",
        "    Dense(128, kernel_regularizer=regularizers.l2(wd), activation='relu'),\n",
        "    Dropout(rate),\n",
        "    Dense(128, kernel_regularizer=regularizers.l2(wd), activation='relu'),\n",
        "    Dropout(rate),\n",
        "    Dense(128, kernel_regularizer=regularizers.l2(wd), activation='relu'),\n",
        "    Dropout(rate),\n",
        "    Dense(128, kernel_regularizer=regularizers.l2(wd), activation='relu'),\n",
        "    Dropout(rate),\n",
        "    Dense(1)\n",
        "])\n",
        "  return regularised_model"
      ],
      "execution_count": 0,
      "outputs": []
    },
    {
      "cell_type": "code",
      "metadata": {
        "id": "tHWIo5UAlvcB",
        "colab_type": "code",
        "colab": {}
      },
      "source": [
        "# Plot the learning curves\n",
        "\n",
        "import pandas as pd\n",
        "import numpy as np\n",
        "import matplotlib.pyplot as plt\n",
        "%matplotlib inline\n",
        "\n",
        "def plotting_curves(history):\n",
        "  frame = pd.DataFrame(history.history)\n",
        "  epochs = np.arange(len(frame))\n",
        "\n",
        "  fig = plt.figure(figsize=(12,4))\n",
        "\n",
        "  # Loss plot\n",
        "  ax = fig.add_subplot(121)\n",
        "  ax.plot(epochs, frame['loss'], label=\"Train\")\n",
        "  ax.plot(epochs, frame['val_loss'], label=\"Validation\")\n",
        "  ax.set_xlabel(\"Epochs\")\n",
        "  ax.set_ylabel(\"Loss\")\n",
        "  ax.set_title(\"Loss vs Epochs\")\n",
        "  ax.legend()\n",
        "\n",
        "  # Accuracy plot\n",
        "  ax = fig.add_subplot(122)\n",
        "  ax.plot(epochs, frame['mae'], label=\"Train\")\n",
        "  ax.plot(epochs, frame['val_mae'], label=\"Validation\")\n",
        "  ax.set_xlabel(\"Epochs\")\n",
        "  ax.set_ylabel(\"Mean Absolute Error\")\n",
        "  ax.set_title(\"Mean Absolute Error vs Epochs\")\n",
        "  ax.legend()"
      ],
      "execution_count": 0,
      "outputs": []
    },
    {
      "cell_type": "code",
      "metadata": {
        "id": "PVzRGjlCoJL-",
        "colab_type": "code",
        "outputId": "7a441f2d-d563-4acf-a96a-6d402d0db1d2",
        "colab": {
          "base_uri": "https://localhost:8080/",
          "height": 704
        }
      },
      "source": [
        "model=get_model()\n",
        "model.summary() # Print the model summary\n",
        "model.compile(optimizer='adam', loss='mse', metrics=['mae']) # Compile the model\n",
        "history = model.fit(train_data, train_targets, epochs=100, validation_split=0.15, batch_size=64,verbose=False) # Train the model\n",
        "model.evaluate(test_data,test_targets,verbose=2) # Evaluate the model on test set\n",
        "plotting_curves(history)"
      ],
      "execution_count": 32,
      "outputs": [
        {
          "output_type": "stream",
          "text": [
            "Model: \"sequential_8\"\n",
            "_________________________________________________________________\n",
            "Layer (type)                 Output Shape              Param #   \n",
            "=================================================================\n",
            "dense (Dense)                (None, 128)               1408      \n",
            "_________________________________________________________________\n",
            "dense_1 (Dense)              (None, 128)               16512     \n",
            "_________________________________________________________________\n",
            "dense_2 (Dense)              (None, 128)               16512     \n",
            "_________________________________________________________________\n",
            "dense_3 (Dense)              (None, 128)               16512     \n",
            "_________________________________________________________________\n",
            "dense_4 (Dense)              (None, 128)               16512     \n",
            "_________________________________________________________________\n",
            "dense_5 (Dense)              (None, 128)               16512     \n",
            "_________________________________________________________________\n",
            "dense_6 (Dense)              (None, 1)                 129       \n",
            "=================================================================\n",
            "Total params: 84,097\n",
            "Trainable params: 84,097\n",
            "Non-trainable params: 0\n",
            "_________________________________________________________________\n",
            "45/1 - 0s - loss: 0.6905 - mae: 0.7333\n"
          ],
          "name": "stdout"
        },
        {
          "output_type": "display_data",
          "data": {
            "image/png": "[encoded data removed]",
            "text/plain": [
              "<Figure size 864x288 with 2 Axes>"
            ]
          },
          "metadata": {
            "tags": []
          }
        }
      ]
    },
    {
      "cell_type": "code",
      "metadata": {
        "id": "r6lABkuSoJOf",
        "colab_type": "code",
        "outputId": "f63ef11a-dccd-4cd7-f91c-eae9acb42d4a",
        "colab": {
          "base_uri": "https://localhost:8080/",
          "height": 917
        }
      },
      "source": [
        "regularised_model=get_regularised_model(1e-5,0.3)\n",
        "regularised_model.summary() # Print the model summary\n",
        "regularised_model.compile(optimizer='adam', loss='mse', metrics=['mae']) # Compile the model\n",
        "regularised_history = regularised_model.fit(train_data, train_targets, epochs=100, validation_split=0.15, batch_size=64,verbose=False) # Train the model\n",
        "regularised_model.evaluate(test_data,test_targets,verbose=2) # Evaluate the model on test set\n",
        "plotting_curves(regularised_history)"
      ],
      "execution_count": 33,
      "outputs": [
        {
          "output_type": "stream",
          "text": [
            "Model: \"sequential_9\"\n",
            "_________________________________________________________________\n",
            "Layer (type)                 Output Shape              Param #   \n",
            "=================================================================\n",
            "dense_7 (Dense)              (None, 128)               1408      \n",
            "_________________________________________________________________\n",
            "dropout (Dropout)            (None, 128)               0         \n",
            "_________________________________________________________________\n",
            "dense_8 (Dense)              (None, 128)               16512     \n",
            "_________________________________________________________________\n",
            "dropout_1 (Dropout)          (None, 128)               0         \n",
            "_________________________________________________________________\n",
            "dense_9 (Dense)              (None, 128)               16512     \n",
            "_________________________________________________________________\n",
            "dropout_2 (Dropout)          (None, 128)               0         \n",
            "_________________________________________________________________\n",
            "dense_10 (Dense)             (None, 128)               16512     \n",
            "_________________________________________________________________\n",
            "dropout_3 (Dropout)          (None, 128)               0         \n",
            "_________________________________________________________________\n",
            "dense_11 (Dense)             (None, 128)               16512     \n",
            "_________________________________________________________________\n",
            "dropout_4 (Dropout)          (None, 128)               0         \n",
            "_________________________________________________________________\n",
            "dense_12 (Dense)             (None, 128)               16512     \n",
            "_________________________________________________________________\n",
            "dropout_5 (Dropout)          (None, 128)               0         \n",
            "_________________________________________________________________\n",
            "dense_13 (Dense)             (None, 1)                 129       \n",
            "=================================================================\n",
            "Total params: 84,097\n",
            "Trainable params: 84,097\n",
            "Non-trainable params: 0\n",
            "_________________________________________________________________\n",
            "45/1 - 0s - loss: 0.5189 - mae: 0.6246\n"
          ],
          "name": "stdout"
        },
        {
          "output_type": "display_data",
          "data": {
            "image/png": "[encoded data removed]",
            "text/plain": [
              "<Figure size 864x288 with 2 Axes>"
            ]
          },
          "metadata": {
            "tags": []
          }
        }
      ]
    },
    {
      "cell_type": "markdown",
      "metadata": {
        "id": "4p0tyIc_o1V9",
        "colab_type": "text"
      },
      "source": [
        "## Batch normalisation layers\n",
        "We can implement batch normalisation into our model by adding it in the same way as any other layer. There are some parameters and hyperparameters associated with batch normalisation.\n",
        "\n",
        "* The hyperparameter **momentum** is the weighting given to the previous running mean when re-computing it with an extra minibatch. By **default**, it is set to 0.99.\n",
        "\n",
        "* The hyperparameter **$\\epsilon$** (epsilon) is used for numeric stability when performing the normalisation over the minibatch. By **default** it is set to 0.001.\n",
        "\n",
        "* The parameters **$\\beta$** (beta) and **$\\gamma$** (gamma) are used to implement an affine transformation after normalisation. By **default**, $\\beta$ is an all-zeros vector, and $\\gamma$ is an all-ones vector.\n",
        "\n",
        "### Customising parameters\n",
        "These can all be changed (along with various other properties) by adding optional arguments to `tf.keras.layers.BatchNormalization()`.\n",
        "\n",
        "Also, the axis for batch normalisation can be specified which is set as -1 by default."
      ]
    },
    {
      "cell_type": "code",
      "metadata": {
        "id": "tEeAh7AfoJQ1",
        "colab_type": "code",
        "colab": {}
      },
      "source": [
        "def get_model_with_normalisation(l1,l2,rate):\n",
        "  model = Sequential([\n",
        "    Dense(128, kernel_regularizer=regularizers.l1_l2(l1,l2), input_shape=[train_data.shape[1],], activation=\"relu\"),\n",
        "    BatchNormalization(),  # Batch normalisation layer\n",
        "    Dropout(rate),\n",
        "    Dense(128, kernel_regularizer=regularizers.l1_l2(l1,l2), activation='relu'),\n",
        "    BatchNormalization(),  # Batch normalisation layer\n",
        "    Dropout(rate),\n",
        "    Dense(128, kernel_regularizer=regularizers.l1_l2(l1,l2), activation='relu'),\n",
        "    BatchNormalization(momentum=0.95, epsilon=0.005, axis = -1, beta_initializer=tf.keras.initializers.RandomNormal(mean=0.0, stddev=0.05), gamma_initializer=tf.keras.initializers.Constant(value=0.9)),  # Batch normalisation layer\n",
        "    Dropout(rate),\n",
        "    Dense(128, kernel_regularizer=regularizers.l1_l2(l1,l2), activation='relu'),\n",
        "    BatchNormalization(momentum=0.95, epsilon=0.005, axis = -1, beta_initializer=tf.keras.initializers.RandomNormal(mean=0.0, stddev=0.05), gamma_initializer=tf.keras.initializers.Constant(value=0.9)),  # Batch normalisation layer\n",
        "    Dropout(rate),\n",
        "    Dense(128, kernel_regularizer=regularizers.l1_l2(l1,l2), activation='relu'),\n",
        "    BatchNormalization(momentum=0.95, epsilon=0.005, axis = -1, beta_initializer=tf.keras.initializers.RandomNormal(mean=0.0, stddev=0.05), gamma_initializer=tf.keras.initializers.Constant(value=0.9)),  # Batch normalisation layer\n",
        "    Dropout(rate),\n",
        "    Dense(128, kernel_regularizer=regularizers.l1_l2(l1,l2), activation='relu'),\n",
        "    BatchNormalization(momentum=0.95, epsilon=0.005, axis = -1, beta_initializer=tf.keras.initializers.RandomNormal(mean=0.0, stddev=0.05), gamma_initializer=tf.keras.initializers.Constant(value=0.9)),  # Batch normalisation layer\n",
        "    Dropout(rate),\n",
        "    Dense(1)\n",
        "])\n",
        "  return model"
      ],
      "execution_count": 0,
      "outputs": []
    },
    {
      "cell_type": "code",
      "metadata": {
        "id": "nKRMiChfjLO9",
        "colab_type": "code",
        "outputId": "5dcb3d7c-c7a4-4eb7-ebfa-696790e73f8f",
        "colab": {
          "base_uri": "https://localhost:8080/",
          "height": 1000
        }
      },
      "source": [
        "normalised_model=get_model_with_normalisation(1e-5,1e-5,0.3)\n",
        "normalised_model.summary() # Print the model summary\n",
        "normalised_model.compile(optimizer='adam', loss='mse', metrics=['mae']) # Compile the model\n",
        "normalised_history = regularised_model.fit(train_data, train_targets, epochs=100, validation_split=0.15, batch_size=64,verbose=False) # Train the model\n",
        "normalised_model.evaluate(test_data,test_targets,verbose=2) # Evaluate the model on test set\n",
        "plotting_curves(normalised_history)"
      ],
      "execution_count": 35,
      "outputs": [
        {
          "output_type": "stream",
          "text": [
            "Model: \"sequential_10\"\n",
            "_________________________________________________________________\n",
            "Layer (type)                 Output Shape              Param #   \n",
            "=================================================================\n",
            "dense_14 (Dense)             (None, 128)               1408      \n",
            "_________________________________________________________________\n",
            "batch_normalization (BatchNo (None, 128)               512       \n",
            "_________________________________________________________________\n",
            "dropout_6 (Dropout)          (None, 128)               0         \n",
            "_________________________________________________________________\n",
            "dense_15 (Dense)             (None, 128)               16512     \n",
            "_________________________________________________________________\n",
            "batch_normalization_1 (Batch (None, 128)               512       \n",
            "_________________________________________________________________\n",
            "dropout_7 (Dropout)          (None, 128)               0         \n",
            "_________________________________________________________________\n",
            "dense_16 (Dense)             (None, 128)               16512     \n",
            "_________________________________________________________________\n",
            "batch_normalization_2 (Batch (None, 128)               512       \n",
            "_________________________________________________________________\n",
            "dropout_8 (Dropout)          (None, 128)               0         \n",
            "_________________________________________________________________\n",
            "dense_17 (Dense)             (None, 128)               16512     \n",
            "_________________________________________________________________\n",
            "batch_normalization_3 (Batch (None, 128)               512       \n",
            "_________________________________________________________________\n",
            "dropout_9 (Dropout)          (None, 128)               0         \n",
            "_________________________________________________________________\n",
            "dense_18 (Dense)             (None, 128)               16512     \n",
            "_________________________________________________________________\n",
            "batch_normalization_4 (Batch (None, 128)               512       \n",
            "_________________________________________________________________\n",
            "dropout_10 (Dropout)         (None, 128)               0         \n",
            "_________________________________________________________________\n",
            "dense_19 (Dense)             (None, 128)               16512     \n",
            "_________________________________________________________________\n",
            "batch_normalization_5 (Batch (None, 128)               512       \n",
            "_________________________________________________________________\n",
            "dropout_11 (Dropout)         (None, 128)               0         \n",
            "_________________________________________________________________\n",
            "dense_20 (Dense)             (None, 1)                 129       \n",
            "=================================================================\n",
            "Total params: 87,169\n",
            "Trainable params: 85,633\n",
            "Non-trainable params: 1,536\n",
            "_________________________________________________________________\n",
            "45/1 - 0s - loss: 1.0402 - mae: 0.9063\n"
          ],
          "name": "stdout"
        },
        {
          "output_type": "display_data",
          "data": {
            "image/png": "[encoded data removed]",
            "text/plain": [
              "<Figure size 864x288 with 2 Axes>"
            ]
          },
          "metadata": {
            "tags": []
          }
        }
      ]
    },
    {
      "cell_type": "markdown",
      "metadata": {
        "id": "zT0j3HbEBUWf",
        "colab_type": "text"
      },
      "source": [
        "## Callbacks\n",
        "* Collect information on training\n",
        "* Remotely monitor training\n",
        "* Tune parameters while training\n",
        "* Create checkpoints\n",
        "* Terminate training early\n",
        "* API for user defined callbacks\n",
        "\n",
        "### Callbacks using the logs Dictionary\n",
        "The `logs` dictionary stores the loss value, along with all of the metrics we are using at the end of a batch or epoch. We can incorporate information from the `logs` dictionary into our own custom callbacks.\n"
      ]
    },
    {
      "cell_type": "code",
      "metadata": {
        "id": "SUuEhvWJCBLH",
        "colab_type": "code",
        "colab": {}
      },
      "source": [
        "# Create the custom callback\n",
        "\n",
        "class LossAndMetricCallback(tf.keras.callbacks.Callback):\n",
        "\n",
        "    # Print the loss after every second batch in the training set\n",
        "    def on_train_batch_end(self, batch, logs=None):\n",
        "        if batch %2 ==0:\n",
        "            print('\\n After batch {}, the loss is {:7.2f}.'.format(batch, logs['loss']))\n",
        "    \n",
        "    # Print the loss after each batch in the test set\n",
        "    def on_test_batch_end(self, batch, logs=None):\n",
        "        print('\\n After batch {}, the loss is {:7.2f}.'.format(batch, logs['loss']))\n",
        "\n",
        "    # Print the loss and mean absolute error after each epoch\n",
        "    def on_epoch_end(self, epoch, logs=None):\n",
        "        print('Epoch {}: Average loss is {:7.2f}, mean absolute error is {:7.2f}.'.format(epoch, logs['loss'], logs['mae']))\n",
        "    \n",
        "    # Notify the user when prediction has finished on each batch\n",
        "    def on_predict_batch_end(self,batch, logs=None):\n",
        "        print(\"Finished prediction on batch {}!\".format(batch))"
      ],
      "execution_count": 0,
      "outputs": []
    },
    {
      "cell_type": "code",
      "metadata": {
        "id": "m46eBlJIjLST",
        "colab_type": "code",
        "outputId": "7eb19c90-81ef-43d1-f0f6-d12efb483725",
        "colab": {
          "base_uri": "https://localhost:8080/",
          "height": 1000
        }
      },
      "source": [
        "regularised_model1=get_regularised_model(1e-5,0.3)\n",
        "regularised_model1.summary() # Print the model summary\n",
        "regularised_model1.compile(optimizer='adam', loss='mse', metrics=['mae']) # Compile the model\n",
        "regularised_history1 = regularised_model1.fit(train_data, train_targets, epochs=20, validation_split=0.15, batch_size=100,verbose=False,callbacks=[LossAndMetricCallback()]) # Train the model\n",
        "regularised_model1.evaluate(test_data,test_targets,verbose=False,batch_size=10,callbacks=[LossAndMetricCallback()]) # Evaluate the model on test set\n",
        "regularised_model1_pred = regularised_model1.predict(test_data, batch_size=10, callbacks=[LossAndMetricCallback()], verbose=False)\n",
        "plotting_curves(regularised_history1)"
      ],
      "execution_count": 37,
      "outputs": [
        {
          "output_type": "stream",
          "text": [
            "Model: \"sequential_11\"\n",
            "_________________________________________________________________\n",
            "Layer (type)                 Output Shape              Param #   \n",
            "=================================================================\n",
            "dense_21 (Dense)             (None, 128)               1408      \n",
            "_________________________________________________________________\n",
            "dropout_12 (Dropout)         (None, 128)               0         \n",
            "_________________________________________________________________\n",
            "dense_22 (Dense)             (None, 128)               16512     \n",
            "_________________________________________________________________\n",
            "dropout_13 (Dropout)         (None, 128)               0         \n",
            "_________________________________________________________________\n",
            "dense_23 (Dense)             (None, 128)               16512     \n",
            "_________________________________________________________________\n",
            "dropout_14 (Dropout)         (None, 128)               0         \n",
            "_________________________________________________________________\n",
            "dense_24 (Dense)             (None, 128)               16512     \n",
            "_________________________________________________________________\n",
            "dropout_15 (Dropout)         (None, 128)               0         \n",
            "_________________________________________________________________\n",
            "dense_25 (Dense)             (None, 128)               16512     \n",
            "_________________________________________________________________\n",
            "dropout_16 (Dropout)         (None, 128)               0         \n",
            "_________________________________________________________________\n",
            "dense_26 (Dense)             (None, 128)               16512     \n",
            "_________________________________________________________________\n",
            "dropout_17 (Dropout)         (None, 128)               0         \n",
            "_________________________________________________________________\n",
            "dense_27 (Dense)             (None, 1)                 129       \n",
            "=================================================================\n",
            "Total params: 84,097\n",
            "Trainable params: 84,097\n",
            "Non-trainable params: 0\n",
            "_________________________________________________________________\n",
            "\n",
            " After batch 0, the loss is    1.02.\n",
            "\n",
            " After batch 2, the loss is    0.89.\n",
            "\n",
            " After batch 0, the loss is    1.10.\n",
            "Epoch 0: Average loss is    0.98, mean absolute error is    0.83.\n",
            "\n",
            " After batch 0, the loss is    0.99.\n",
            "\n",
            " After batch 2, the loss is    0.99.\n",
            "\n",
            " After batch 0, the loss is    1.09.\n",
            "Epoch 1: Average loss is    0.97, mean absolute error is    0.83.\n",
            "\n",
            " After batch 0, the loss is    0.86.\n",
            "\n",
            " After batch 2, the loss is    0.94.\n",
            "\n",
            " After batch 0, the loss is    1.05.\n",
            "Epoch 2: Average loss is    0.96, mean absolute error is    0.82.\n",
            "\n",
            " After batch 0, the loss is    1.04.\n",
            "\n",
            " After batch 2, the loss is    0.83.\n",
            "\n",
            " After batch 0, the loss is    0.96.\n",
            "Epoch 3: Average loss is    0.93, mean absolute error is    0.81.\n",
            "\n",
            " After batch 0, the loss is    1.00.\n",
            "\n",
            " After batch 2, the loss is    0.80.\n",
            "\n",
            " After batch 0, the loss is    0.84.\n",
            "Epoch 4: Average loss is    0.88, mean absolute error is    0.78.\n",
            "\n",
            " After batch 0, the loss is    0.75.\n",
            "\n",
            " After batch 2, the loss is    0.76.\n",
            "\n",
            " After batch 0, the loss is    0.71.\n",
            "Epoch 5: Average loss is    0.76, mean absolute error is    0.72.\n",
            "\n",
            " After batch 0, the loss is    0.57.\n",
            "\n",
            " After batch 2, the loss is    0.73.\n",
            "\n",
            " After batch 0, the loss is    0.61.\n",
            "Epoch 6: Average loss is    0.67, mean absolute error is    0.67.\n",
            "\n",
            " After batch 0, the loss is    0.57.\n",
            "\n",
            " After batch 2, the loss is    0.63.\n",
            "\n",
            " After batch 0, the loss is    0.55.\n",
            "Epoch 7: Average loss is    0.65, mean absolute error is    0.65.\n",
            "\n",
            " After batch 0, the loss is    0.57.\n",
            "\n",
            " After batch 2, the loss is    0.59.\n",
            "\n",
            " After batch 0, the loss is    0.50.\n",
            "Epoch 8: Average loss is    0.60, mean absolute error is    0.64.\n",
            "\n",
            " After batch 0, the loss is    0.55.\n",
            "\n",
            " After batch 2, the loss is    0.50.\n",
            "\n",
            " After batch 0, the loss is    0.43.\n",
            "Epoch 9: Average loss is    0.57, mean absolute error is    0.62.\n",
            "\n",
            " After batch 0, the loss is    0.53.\n",
            "\n",
            " After batch 2, the loss is    0.56.\n",
            "\n",
            " After batch 0, the loss is    0.43.\n",
            "Epoch 10: Average loss is    0.59, mean absolute error is    0.63.\n",
            "\n",
            " After batch 0, the loss is    0.60.\n",
            "\n",
            " After batch 2, the loss is    0.49.\n",
            "\n",
            " After batch 0, the loss is    0.43.\n",
            "Epoch 11: Average loss is    0.54, mean absolute error is    0.60.\n",
            "\n",
            " After batch 0, the loss is    0.68.\n",
            "\n",
            " After batch 2, the loss is    0.55.\n",
            "\n",
            " After batch 0, the loss is    0.40.\n",
            "Epoch 12: Average loss is    0.58, mean absolute error is    0.61.\n",
            "\n",
            " After batch 0, the loss is    0.54.\n",
            "\n",
            " After batch 2, the loss is    0.67.\n",
            "\n",
            " After batch 0, the loss is    0.41.\n",
            "Epoch 13: Average loss is    0.58, mean absolute error is    0.62.\n",
            "\n",
            " After batch 0, the loss is    0.49.\n",
            "\n",
            " After batch 2, the loss is    0.49.\n",
            "\n",
            " After batch 0, the loss is    0.42.\n",
            "Epoch 14: Average loss is    0.51, mean absolute error is    0.57.\n",
            "\n",
            " After batch 0, the loss is    0.49.\n",
            "\n",
            " After batch 2, the loss is    0.55.\n",
            "\n",
            " After batch 0, the loss is    0.41.\n",
            "Epoch 15: Average loss is    0.53, mean absolute error is    0.60.\n",
            "\n",
            " After batch 0, the loss is    0.52.\n",
            "\n",
            " After batch 2, the loss is    0.51.\n",
            "\n",
            " After batch 0, the loss is    0.41.\n",
            "Epoch 16: Average loss is    0.54, mean absolute error is    0.60.\n",
            "\n",
            " After batch 0, the loss is    0.50.\n",
            "\n",
            " After batch 2, the loss is    0.47.\n",
            "\n",
            " After batch 0, the loss is    0.40.\n",
            "Epoch 17: Average loss is    0.54, mean absolute error is    0.59.\n",
            "\n",
            " After batch 0, the loss is    0.52.\n",
            "\n",
            " After batch 2, the loss is    0.43.\n",
            "\n",
            " After batch 0, the loss is    0.40.\n",
            "Epoch 18: Average loss is    0.53, mean absolute error is    0.59.\n",
            "\n",
            " After batch 0, the loss is    0.55.\n",
            "\n",
            " After batch 2, the loss is    0.49.\n",
            "\n",
            " After batch 0, the loss is    0.41.\n",
            "Epoch 19: Average loss is    0.53, mean absolute error is    0.59.\n",
            "\n",
            " After batch 0, the loss is    0.82.\n",
            "\n",
            " After batch 1, the loss is    0.28.\n",
            "\n",
            " After batch 2, the loss is    0.43.\n",
            "\n",
            " After batch 3, the loss is    0.42.\n",
            "\n",
            " After batch 4, the loss is    0.81.\n",
            "Finished prediction on batch 0!\n",
            "Finished prediction on batch 1!\n",
            "Finished prediction on batch 2!\n",
            "Finished prediction on batch 3!\n",
            "Finished prediction on batch 4!\n"
          ],
          "name": "stdout"
        },
        {
          "output_type": "display_data",
          "data": {
            "image/png": "[encoded data removed]",
            "text/plain": [
              "<Figure size 864x288 with 2 Axes>"
            ]
          },
          "metadata": {
            "tags": []
          }
        }
      ]
    },
    {
      "cell_type": "markdown",
      "metadata": {
        "id": "LyCr3NMjDf9N",
        "colab_type": "text"
      },
      "source": [
        "## Learning rate scheduler\n",
        "\n",
        "**Usage:** `tf.keras.callbacks.LearningRateScheduler(schedule, verbose=0)`\n",
        "\n",
        "This function `schedule` should take two arguments:\n",
        "* The current epoch (as an integer), and\n",
        "* The current learning rate,\n",
        "\n",
        "and return new learning rate for that epoch. \n",
        "\n",
        "The `LearningRateScheduler` also has an optional `verbose` argument, which prints information about the learning rate if it is set to 1.\n",
        "\n"
      ]
    },
    {
      "cell_type": "code",
      "metadata": {
        "id": "wJ_PiuoDHixA",
        "colab_type": "code",
        "colab": {}
      },
      "source": [
        "# Define the learning rate schedule function\n",
        "\n",
        "def lr_function(epoch, lr):\n",
        "    if epoch % 2 == 0:\n",
        "        return lr\n",
        "    else:\n",
        "        return lr + epoch/1000"
      ],
      "execution_count": 0,
      "outputs": []
    },
    {
      "cell_type": "code",
      "metadata": {
        "id": "aDmXGilPH3iQ",
        "colab_type": "code",
        "outputId": "37d55256-92b1-4268-81c3-69488f393b29",
        "colab": {
          "base_uri": "https://localhost:8080/",
          "height": 651
        }
      },
      "source": [
        "# Using defined schedule function\n",
        "regularised_history2 = regularised_model1.fit(train_data, train_targets, epochs=10, validation_split=0.15, batch_size=100,verbose=False, callbacks=[tf.keras.callbacks.LearningRateScheduler(lr_function, verbose=1)]) # Train the model\n",
        "plotting_curves(regularised_history2)"
      ],
      "execution_count": 39,
      "outputs": [
        {
          "output_type": "stream",
          "text": [
            "\n",
            "Epoch 00001: LearningRateScheduler reducing learning rate to 0.0010000000474974513.\n",
            "\n",
            "Epoch 00002: LearningRateScheduler reducing learning rate to 0.0020000000474974513.\n",
            "\n",
            "Epoch 00003: LearningRateScheduler reducing learning rate to 0.0020000000949949026.\n",
            "\n",
            "Epoch 00004: LearningRateScheduler reducing learning rate to 0.005000000094994903.\n",
            "\n",
            "Epoch 00005: LearningRateScheduler reducing learning rate to 0.004999999888241291.\n",
            "\n",
            "Epoch 00006: LearningRateScheduler reducing learning rate to 0.009999999888241292.\n",
            "\n",
            "Epoch 00007: LearningRateScheduler reducing learning rate to 0.009999999776482582.\n",
            "\n",
            "Epoch 00008: LearningRateScheduler reducing learning rate to 0.01699999977648258.\n",
            "\n",
            "Epoch 00009: LearningRateScheduler reducing learning rate to 0.016999999061226845.\n",
            "\n",
            "Epoch 00010: LearningRateScheduler reducing learning rate to 0.025999999061226846.\n"
          ],
          "name": "stdout"
        },
        {
          "output_type": "display_data",
          "data": {
            "image/png": "[encoded data removed]",
            "text/plain": [
              "<Figure size 864x288 with 2 Axes>"
            ]
          },
          "metadata": {
            "tags": []
          }
        }
      ]
    },
    {
      "cell_type": "code",
      "metadata": {
        "id": "yJTt6CbNI4_7",
        "colab_type": "code",
        "outputId": "fc86be4c-787f-4131-9d65-269b47f4f7d7",
        "colab": {
          "base_uri": "https://localhost:8080/",
          "height": 651
        }
      },
      "source": [
        "# Using lambda function\n",
        "regularised_history2 = regularised_model1.fit(train_data, train_targets, epochs=10, validation_split=0.15, batch_size=100,verbose=False, callbacks=[tf.keras.callbacks.LearningRateScheduler(lambda x:1/(3+5*x), verbose=1)]) # Train the model\n",
        "plotting_curves(regularised_history2)"
      ],
      "execution_count": 40,
      "outputs": [
        {
          "output_type": "stream",
          "text": [
            "\n",
            "Epoch 00001: LearningRateScheduler reducing learning rate to 0.3333333333333333.\n",
            "\n",
            "Epoch 00002: LearningRateScheduler reducing learning rate to 0.125.\n",
            "\n",
            "Epoch 00003: LearningRateScheduler reducing learning rate to 0.07692307692307693.\n",
            "\n",
            "Epoch 00004: LearningRateScheduler reducing learning rate to 0.05555555555555555.\n",
            "\n",
            "Epoch 00005: LearningRateScheduler reducing learning rate to 0.043478260869565216.\n",
            "\n",
            "Epoch 00006: LearningRateScheduler reducing learning rate to 0.03571428571428571.\n",
            "\n",
            "Epoch 00007: LearningRateScheduler reducing learning rate to 0.030303030303030304.\n",
            "\n",
            "Epoch 00008: LearningRateScheduler reducing learning rate to 0.02631578947368421.\n",
            "\n",
            "Epoch 00009: LearningRateScheduler reducing learning rate to 0.023255813953488372.\n",
            "\n",
            "Epoch 00010: LearningRateScheduler reducing learning rate to 0.020833333333333332.\n"
          ],
          "name": "stdout"
        },
        {
          "output_type": "display_data",
          "data": {
            "image/png": "[encoded data removed]",
            "text/plain": [
              "<Figure size 864x288 with 2 Axes>"
            ]
          },
          "metadata": {
            "tags": []
          }
        }
      ]
    },
    {
      "cell_type": "markdown",
      "metadata": {
        "id": "RoqbGeclHgnj",
        "colab_type": "text"
      },
      "source": [
        "### Custom learning rate scheduler\n",
        "\n",
        "We are going to define a callback to change the learning rate of the optimiser of a model during training. We will do this by specifying the epochs and new learning rates where we would like it to be changed.\n",
        "\n",
        "Before training the model with a custom callback, we define the auxillary function that returns the learning rate for each epoch based on our schedule."
      ]
    },
    {
      "cell_type": "code",
      "metadata": {
        "id": "hxA8-5CrjLdD",
        "colab_type": "code",
        "colab": {}
      },
      "source": [
        "# Define the learning rate schedule. The tuples below are (start_epoch, new_learning_rate)\n",
        "\n",
        "lr_schedule = [\n",
        "    (4, 0.03), (7, 0.02), (11, 0.005), (15, 0.007)\n",
        "]\n",
        "\n",
        "def get_new_epoch_lr(epoch, lr):\n",
        "    # Checks to see if the input epoch is listed in the learning rate schedule \n",
        "    # and if so, returns index in lr_schedule\n",
        "    epoch_in_sched = [i for i in range(len(lr_schedule)) if lr_schedule[i][0]==int(epoch)]\n",
        "    if len(epoch_in_sched)>0:\n",
        "        # If it is, return the learning rate corresponding to the epoch\n",
        "        return lr_schedule[epoch_in_sched[0]][1]\n",
        "    else:\n",
        "        # Otherwise, return the existing learning rate\n",
        "        return lr"
      ],
      "execution_count": 0,
      "outputs": []
    },
    {
      "cell_type": "code",
      "metadata": {
        "id": "1PB-YKlFjLba",
        "colab_type": "code",
        "colab": {}
      },
      "source": [
        "# Define the custom callback\n",
        "\n",
        "class LRScheduler(tf.keras.callbacks.Callback):\n",
        "    \n",
        "    def __init__(self, new_lr):\n",
        "        super(LRScheduler, self).__init__()\n",
        "        # Add the new learning rate function to our callback\n",
        "        self.new_lr = new_lr\n",
        "\n",
        "    def on_epoch_begin(self, epoch, logs=None):\n",
        "        # Make sure that the optimizer we have chosen has a learning rate, and raise an error if not\n",
        "        if not hasattr(self.model.optimizer, 'lr'):\n",
        "              raise ValueError('Error: Optimizer does not have a learning rate.')\n",
        "                \n",
        "        # Get the current learning rate\n",
        "        curr_rate = float(tf.keras.backend.get_value(self.model.optimizer.lr))\n",
        "        \n",
        "        # Call the auxillary function to get the scheduled learning rate for the current epoch\n",
        "        scheduled_rate = self.new_lr(epoch, curr_rate)\n",
        "\n",
        "        # Set the learning rate to the scheduled learning rate\n",
        "        tf.keras.backend.set_value(self.model.optimizer.lr, scheduled_rate)\n",
        "        print('Learning rate for epoch {} is {:7.3f}'.format(epoch, scheduled_rate))"
      ],
      "execution_count": 0,
      "outputs": []
    },
    {
      "cell_type": "code",
      "metadata": {
        "id": "GE5u5gj5jLVH",
        "colab_type": "code",
        "outputId": "f990f428-59b0-4ec5-9db8-31a95fb73413",
        "colab": {
          "base_uri": "https://localhost:8080/",
          "height": 473
        }
      },
      "source": [
        "regularised_history3 = regularised_model1.fit(train_data, train_targets, epochs=10, validation_split=0.15, batch_size=100,verbose=False,callbacks=[LRScheduler(get_new_epoch_lr)]) # Train the model\n",
        "plotting_curves(regularised_history3)"
      ],
      "execution_count": 43,
      "outputs": [
        {
          "output_type": "stream",
          "text": [
            "Learning rate for epoch 0 is   0.021\n",
            "Learning rate for epoch 1 is   0.021\n",
            "Learning rate for epoch 2 is   0.021\n",
            "Learning rate for epoch 3 is   0.021\n",
            "Learning rate for epoch 4 is   0.030\n",
            "Learning rate for epoch 5 is   0.030\n",
            "Learning rate for epoch 6 is   0.030\n",
            "Learning rate for epoch 7 is   0.020\n",
            "Learning rate for epoch 8 is   0.020\n",
            "Learning rate for epoch 9 is   0.020\n"
          ],
          "name": "stdout"
        },
        {
          "output_type": "display_data",
          "data": {
            "image/png": "[encoded data removed]",
            "text/plain": [
              "<Figure size 864x288 with 2 Axes>"
            ]
          },
          "metadata": {
            "tags": []
          }
        }
      ]
    },
    {
      "cell_type": "markdown",
      "metadata": {
        "id": "ZzN6ueEfJA8P",
        "colab_type": "text"
      },
      "source": [
        "## CSV logger\n",
        "**Usage** `tf.keras.callbacks.CSVLogger(filename, separator=',', append=False)`\n",
        "\n",
        "This callback streams the results from each epoch into a CSV file.\n",
        "The first line of the CSV file will be the names of pieces of information recorded on each subsequent line, beginning with the epoch and loss value. The values of metrics at the end of each epoch will also be recorded.\n",
        "\n",
        "The only compulsory argument is the `filename` for the log to be streamed to. This could also be a filepath. The `separator` can be used for defining entries between each line. The `append` argument allows to append results to an existing file with the same name. This can be particularly useful if training is continuous."
      ]
    },
    {
      "cell_type": "code",
      "metadata": {
        "id": "uxneImpkEwfY",
        "colab_type": "code",
        "outputId": "8539aedd-ae0f-4618-b116-65d077c07f00",
        "colab": {
          "base_uri": "https://localhost:8080/",
          "height": 295
        }
      },
      "source": [
        "regularised_history3 = regularised_model1.fit(train_data, train_targets, epochs=10, validation_split=0.15,verbose=False,callbacks=[tf.keras.callbacks.CSVLogger(\"results.csv\")]) # Train the model\n",
        "plotting_curves(regularised_history3)"
      ],
      "execution_count": 44,
      "outputs": [
        {
          "output_type": "display_data",
          "data": {
            "image/png": "[encoded data removed]",
            "text/plain": [
              "<Figure size 864x288 with 2 Axes>"
            ]
          },
          "metadata": {
            "tags": []
          }
        }
      ]
    },
    {
      "cell_type": "code",
      "metadata": {
        "id": "Fgz9Bk1oEwUN",
        "colab_type": "code",
        "outputId": "6974f780-8e84-4156-dd09-fcea73fffdac",
        "colab": {
          "base_uri": "https://localhost:8080/",
          "height": 370
        }
      },
      "source": [
        "# Load the CSV\n",
        "\n",
        "import pandas as pd\n",
        "pd.read_csv(\"results.csv\", index_col='epoch')"
      ],
      "execution_count": 45,
      "outputs": [
        {
          "output_type": "execute_result",
          "data": {
            "text/html": [
              "<div>\n",
              "<style scoped>\n",
              "    .dataframe tbody tr th:only-of-type {\n",
              "        vertical-align: middle;\n",
              "    }\n",
              "\n",
              "    .dataframe tbody tr th {\n",
              "        vertical-align: top;\n",
              "    }\n",
              "\n",
              "    .dataframe thead th {\n",
              "        text-align: right;\n",
              "    }\n",
              "</style>\n",
              "<table border=\"1\" class=\"dataframe\">\n",
              "  <thead>\n",
              "    <tr style=\"text-align: right;\">\n",
              "      <th></th>\n",
              "      <th>loss</th>\n",
              "      <th>mae</th>\n",
              "      <th>val_loss</th>\n",
              "      <th>val_mae</th>\n",
              "    </tr>\n",
              "    <tr>\n",
              "      <th>epoch</th>\n",
              "      <th></th>\n",
              "      <th></th>\n",
              "      <th></th>\n",
              "      <th></th>\n",
              "    </tr>\n",
              "  </thead>\n",
              "  <tbody>\n",
              "    <tr>\n",
              "      <th>0</th>\n",
              "      <td>1.095893</td>\n",
              "      <td>0.843119</td>\n",
              "      <td>1.194618</td>\n",
              "      <td>0.916479</td>\n",
              "    </tr>\n",
              "    <tr>\n",
              "      <th>1</th>\n",
              "      <td>1.106437</td>\n",
              "      <td>0.841909</td>\n",
              "      <td>1.196918</td>\n",
              "      <td>0.920462</td>\n",
              "    </tr>\n",
              "    <tr>\n",
              "      <th>2</th>\n",
              "      <td>1.093881</td>\n",
              "      <td>0.841662</td>\n",
              "      <td>1.211681</td>\n",
              "      <td>0.921165</td>\n",
              "    </tr>\n",
              "    <tr>\n",
              "      <th>3</th>\n",
              "      <td>1.102030</td>\n",
              "      <td>0.841489</td>\n",
              "      <td>1.205945</td>\n",
              "      <td>0.922736</td>\n",
              "    </tr>\n",
              "    <tr>\n",
              "      <th>4</th>\n",
              "      <td>1.087300</td>\n",
              "      <td>0.834888</td>\n",
              "      <td>1.197076</td>\n",
              "      <td>0.920110</td>\n",
              "    </tr>\n",
              "    <tr>\n",
              "      <th>5</th>\n",
              "      <td>1.076507</td>\n",
              "      <td>0.823714</td>\n",
              "      <td>1.200152</td>\n",
              "      <td>0.918342</td>\n",
              "    </tr>\n",
              "    <tr>\n",
              "      <th>6</th>\n",
              "      <td>1.086205</td>\n",
              "      <td>0.844074</td>\n",
              "      <td>1.192807</td>\n",
              "      <td>0.919211</td>\n",
              "    </tr>\n",
              "    <tr>\n",
              "      <th>7</th>\n",
              "      <td>1.099280</td>\n",
              "      <td>0.838737</td>\n",
              "      <td>1.187684</td>\n",
              "      <td>0.918145</td>\n",
              "    </tr>\n",
              "    <tr>\n",
              "      <th>8</th>\n",
              "      <td>1.092036</td>\n",
              "      <td>0.848451</td>\n",
              "      <td>1.181462</td>\n",
              "      <td>0.915835</td>\n",
              "    </tr>\n",
              "    <tr>\n",
              "      <th>9</th>\n",
              "      <td>1.062624</td>\n",
              "      <td>0.821349</td>\n",
              "      <td>1.175837</td>\n",
              "      <td>0.905308</td>\n",
              "    </tr>\n",
              "  </tbody>\n",
              "</table>\n",
              "</div>"
            ],
            "text/plain": [
              "           loss       mae  val_loss   val_mae\n",
              "epoch                                        \n",
              "0      1.095893  0.843119  1.194618  0.916479\n",
              "1      1.106437  0.841909  1.196918  0.920462\n",
              "2      1.093881  0.841662  1.211681  0.921165\n",
              "3      1.102030  0.841489  1.205945  0.922736\n",
              "4      1.087300  0.834888  1.197076  0.920110\n",
              "5      1.076507  0.823714  1.200152  0.918342\n",
              "6      1.086205  0.844074  1.192807  0.919211\n",
              "7      1.099280  0.838737  1.187684  0.918145\n",
              "8      1.092036  0.848451  1.181462  0.915835\n",
              "9      1.062624  0.821349  1.175837  0.905308"
            ]
          },
          "metadata": {
            "tags": []
          },
          "execution_count": 45
        }
      ]
    },
    {
      "cell_type": "markdown",
      "metadata": {
        "id": "k5MC6EMRg7b8",
        "colab_type": "text"
      },
      "source": [
        "## Lambda callbacks\n",
        "**Usage** `tf.keras.callbacks.LambdaCallback(\n",
        "        on_epoch_begin=None, on_epoch_end=None, \n",
        "        on_batch_begin=None, on_batch_end=None, \n",
        "        on_train_begin=None, on_train_end=None)`\n",
        "\n",
        "Lambda callbacks are used to quickly define simple custom callbacks with the use of lambda functions.\n",
        "\n",
        "Each of the functions require some positional arguments.\n",
        "* `on_epoch_begin` and `on_epoch_end` expect two arguments: `epoch` and `logs`,\n",
        "* `on_batch_begin` and `on_batch_end` expect two arguments: `batch` and `logs` and\n",
        "* `on_train_begin` and `on_train_end` expect one argument: `logs`."
      ]
    },
    {
      "cell_type": "code",
      "metadata": {
        "id": "3SrerEdOEwPQ",
        "colab_type": "code",
        "colab": {}
      },
      "source": [
        "# Print the epoch number at the beginning of each epoch\n",
        "\n",
        "epoch_callback = tf.keras.callbacks.LambdaCallback(\n",
        "    on_epoch_begin=lambda epoch,logs: print('Starting Epoch {}!'.format(epoch+1)))"
      ],
      "execution_count": 0,
      "outputs": []
    },
    {
      "cell_type": "code",
      "metadata": {
        "id": "U59VATOpEwFJ",
        "colab_type": "code",
        "colab": {}
      },
      "source": [
        "# Print the loss at the end of each batch\n",
        "\n",
        "batch_loss_callback = tf.keras.callbacks.LambdaCallback(\n",
        "    on_batch_end=lambda batch,logs: print('\\n After batch {}, the loss is {:7.2f}.'.format(batch, logs['loss'])))"
      ],
      "execution_count": 0,
      "outputs": []
    },
    {
      "cell_type": "code",
      "metadata": {
        "id": "XMECzGuPhoRQ",
        "colab_type": "code",
        "colab": {}
      },
      "source": [
        "# Inform that training is finished\n",
        "\n",
        "train_finish_callback = tf.keras.callbacks.LambdaCallback(\n",
        "    on_train_end=lambda logs: print('Training finished!'))"
      ],
      "execution_count": 0,
      "outputs": []
    },
    {
      "cell_type": "code",
      "metadata": {
        "id": "6kyvKndbhGOh",
        "colab_type": "code",
        "outputId": "1f9bd493-37ce-4170-be96-e1352be3bd7b",
        "colab": {
          "base_uri": "https://localhost:8080/",
          "height": 835
        }
      },
      "source": [
        "# Train the model with the lambda callbacks\n",
        "\n",
        "history = model.fit(train_data, train_targets, epochs=5, batch_size=100,\n",
        "                    callbacks=[epoch_callback, batch_loss_callback,train_finish_callback], verbose=False)"
      ],
      "execution_count": 49,
      "outputs": [
        {
          "output_type": "stream",
          "text": [
            "Starting Epoch 1!\n",
            "\n",
            " After batch 0, the loss is    0.13.\n",
            "\n",
            " After batch 1, the loss is    0.16.\n",
            "\n",
            " After batch 2, the loss is    0.16.\n",
            "\n",
            " After batch 3, the loss is    0.22.\n",
            "Starting Epoch 2!\n",
            "\n",
            " After batch 0, the loss is    0.15.\n",
            "\n",
            " After batch 1, the loss is    0.26.\n",
            "\n",
            " After batch 2, the loss is    0.17.\n",
            "\n",
            " After batch 3, the loss is    0.12.\n",
            "Starting Epoch 3!\n",
            "\n",
            " After batch 0, the loss is    0.10.\n",
            "\n",
            " After batch 1, the loss is    0.17.\n",
            "\n",
            " After batch 2, the loss is    0.17.\n",
            "\n",
            " After batch 3, the loss is    0.15.\n",
            "Starting Epoch 4!\n",
            "\n",
            " After batch 0, the loss is    0.09.\n",
            "\n",
            " After batch 1, the loss is    0.20.\n",
            "\n",
            " After batch 2, the loss is    0.11.\n",
            "\n",
            " After batch 3, the loss is    0.12.\n",
            "Starting Epoch 5!\n",
            "\n",
            " After batch 0, the loss is    0.11.\n",
            "\n",
            " After batch 1, the loss is    0.14.\n",
            "\n",
            " After batch 2, the loss is    0.12.\n",
            "\n",
            " After batch 3, the loss is    0.11.\n",
            "Training finished!\n"
          ],
          "name": "stdout"
        }
      ]
    },
    {
      "cell_type": "markdown",
      "metadata": {
        "id": "gsgUIlfRhRnM",
        "colab_type": "text"
      },
      "source": [
        "## Reduce learning rate on plateau\n",
        "\n",
        "**Usage** `tf.keras.callbacks.ReduceLROnPlateau(\n",
        "            monitor='val_loss', \n",
        "            factor=0.1, \n",
        "            patience=10, \n",
        "            verbose=0, \n",
        "            mode='auto', \n",
        "            min_delta=0.0001, \n",
        "            cooldown=0, \n",
        "            min_lr=0)`\n",
        "\n",
        "The `ReduceLROnPlateau` callback allows reduction of the learning rate when a metric has stopped improving. \n",
        "The arguments are similar to those used in the `EarlyStopping` callback.\n",
        "* The argument `monitor` is used to specify which metric to base the callback on.\n",
        "* The `factor` is the factor by which the learning rate decreases i.e., new_lr=factor*old_lr.\n",
        "* The `patience` is the number of epochs where there is no improvement on the monitored metric before the learning rate is reduced.\n",
        "* The `verbose` argument will produce progress messages when set to 1.\n",
        "* The `mode` determines whether the learning rate will decrease when the monitored quantity stops increasing (`max`) or decreasing (`min`). The `auto` setting causes the callback to infer the mode from the monitored quantity.\n",
        "* The `min_delta` is the smallest change in the monitored quantity to be deemed an improvement.\n",
        "* The `cooldown` is the number of epochs to wait after the learning rate is changed before the callback resumes normal operation.\n",
        "* The `min_lr` is a lower bound on the learning rate that the callback will produce."
      ]
    },
    {
      "cell_type": "code",
      "metadata": {
        "id": "u4OkYEi3hGXD",
        "colab_type": "code",
        "colab": {
          "base_uri": "https://localhost:8080/",
          "height": 52
        },
        "outputId": "b8a74017-67a1-49e9-92d6-2dd7211204a0"
      },
      "source": [
        "# Train the model with the ReduceLROnPlateau callback\n",
        "\n",
        "history = model.fit(train_data, train_targets, epochs=100, batch_size=100,\n",
        "                    callbacks=[tf.keras.callbacks.ReduceLROnPlateau(\n",
        "                        monitor=\"loss\",factor=0.2, verbose=1)], verbose=False)"
      ],
      "execution_count": 50,
      "outputs": [
        {
          "output_type": "stream",
          "text": [
            "\n",
            "Epoch 00042: ReduceLROnPlateau reducing learning rate to 0.00020000000949949026.\n"
          ],
          "name": "stdout"
        }
      ]
    },
    {
      "cell_type": "markdown",
      "metadata": {
        "id": "kp-sBs_wh-7C",
        "colab_type": "text"
      },
      "source": [
        "## Early stopping and patience\n",
        "\n",
        "Early stopping is a technique that monitors the performance of the network for every epoch on a held out validation set during the training run, and terminates the training conditional on the validation performance. "
      ]
    },
    {
      "cell_type": "code",
      "metadata": {
        "id": "Fi3dBylVhGam",
        "colab_type": "code",
        "outputId": "e3514dfc-2dc9-4cc2-9712-117ec6055d08",
        "colab": {
          "base_uri": "https://localhost:8080/",
          "height": 52
        }
      },
      "source": [
        "unregularised_model=get_model()\n",
        "unregularised_model.compile(optimizer='adam',loss='mae')\n",
        "unreg_history=unregularised_model.fit(train_data,train_targets,epochs=100,validation_split=0.15,batch_size=64,verbose=False,callbacks=[tf.keras.callbacks.EarlyStopping(patience=10)])\n",
        "unregularised_model.evaluate(test_data,test_targets,verbose=2)"
      ],
      "execution_count": 51,
      "outputs": [
        {
          "output_type": "stream",
          "text": [
            "45/1 - 0s - loss: 0.5785\n"
          ],
          "name": "stdout"
        },
        {
          "output_type": "execute_result",
          "data": {
            "text/plain": [
              "0.6001491533385382"
            ]
          },
          "metadata": {
            "tags": []
          },
          "execution_count": 51
        }
      ]
    },
    {
      "cell_type": "code",
      "metadata": {
        "id": "_6kVQqIiixZn",
        "colab_type": "code",
        "outputId": "fe318ed8-62eb-4cfc-8ff6-1f3a7904f5d2",
        "colab": {
          "base_uri": "https://localhost:8080/",
          "height": 52
        }
      },
      "source": [
        "regularised_model=get_regularised_model(1e-8,0.2)\n",
        "regularised_model.compile(optimizer='adam',loss='mae')\n",
        "reg_history=regularised_model.fit(train_data,train_targets,epochs=100,validation_split=0.15,batch_size=64,verbose=False,callbacks=[tf.keras.callbacks.EarlyStopping(patience=10)])\n",
        "unregularised_model.evaluate(test_data,test_targets,verbose=2)"
      ],
      "execution_count": 52,
      "outputs": [
        {
          "output_type": "stream",
          "text": [
            "45/1 - 0s - loss: 0.5785\n"
          ],
          "name": "stdout"
        },
        {
          "output_type": "execute_result",
          "data": {
            "text/plain": [
              "0.6001491533385382"
            ]
          },
          "metadata": {
            "tags": []
          },
          "execution_count": 52
        }
      ]
    },
    {
      "cell_type": "code",
      "metadata": {
        "id": "Wx5eiQmbixfz",
        "colab_type": "code",
        "outputId": "caa7c5b6-515e-4e75-87df-efefcc091a57",
        "colab": {
          "base_uri": "https://localhost:8080/",
          "height": 350
        }
      },
      "source": [
        "fig=plt.figure(figsize=(12,5))\n",
        "fig.add_subplot(121)\n",
        "\n",
        "plt.plot(unreg_history.history['loss'])\n",
        "plt.plot(unreg_history.history['val_loss'])\n",
        "plt.title('Unregularised Model: Loss vs. Epoch')\n",
        "plt.ylabel('Loss')\n",
        "plt.xlabel('Epoch')\n",
        "plt.legend(['Training','Validation'],loc='best')\n",
        "\n",
        "fig.add_subplot(122)\n",
        "\n",
        "plt.plot(reg_history.history['loss'])\n",
        "plt.plot(reg_history.history['val_loss'])\n",
        "plt.title('Regularised Model: Loss vs. Epoch')\n",
        "plt.ylabel('Loss')\n",
        "plt.xlabel('Epoch')\n",
        "plt.legend(['Training','Validation'],loc='best');"
      ],
      "execution_count": 53,
      "outputs": [
        {
          "output_type": "display_data",
          "data": {
            "image/png": "[encoded data removed]",
            "text/plain": [
              "<Figure size 864x360 with 2 Axes>"
            ]
          },
          "metadata": {
            "tags": []
          }
        }
      ]
    },
    {
      "cell_type": "markdown",
      "metadata": {
        "id": "X0BzXFqwxv1g",
        "colab_type": "text"
      },
      "source": [
        "## Saving and Loading Models\n",
        "\n",
        "### Saving and Loading Models Weights\n",
        "\n",
        "Loading and inspecting the CIFAR-10 dataset which consists of, in total, 60000 color images, each with one of 10 labels: airplane, automobile, bird, cat, deer, dog, frog, horse, ship, truck. "
      ]
    },
    {
      "cell_type": "code",
      "metadata": {
        "id": "_KcuAbd0ixdf",
        "colab_type": "code",
        "outputId": "35b1b162-56b4-479c-8c54-cf4a480b40b8",
        "colab": {
          "base_uri": "https://localhost:8080/",
          "height": 52
        }
      },
      "source": [
        "# Import the CIFAR-10 dataset and rescale the pixel values\n",
        "\n",
        "(x_train, y_train), (x_test, y_test) = tf.keras.datasets.cifar10.load_data()\n",
        "x_train = x_train / 255.0\n",
        "x_test = x_test / 255.0\n",
        "\n",
        "# Use smaller subset -- speeds things up\n",
        "x_train = x_train[:10000]\n",
        "y_train = y_train[:10000]\n",
        "x_test = x_test[:1000]\n",
        "y_test = y_test[:1000]"
      ],
      "execution_count": 54,
      "outputs": [
        {
          "output_type": "stream",
          "text": [
            "Downloading data from https://www.cs.toronto.edu/~kriz/cifar-10-python.tar.gz\n",
            "170500096/170498071 [==============================] - 11s 0us/step\n"
          ],
          "name": "stdout"
        }
      ]
    },
    {
      "cell_type": "code",
      "metadata": {
        "id": "96BIRDItxmQ5",
        "colab_type": "code",
        "outputId": "74f5ed19-4006-45cc-ac28-dbc8645fd6d0",
        "colab": {
          "base_uri": "https://localhost:8080/",
          "height": 78
        }
      },
      "source": [
        "# Plot the first 10 CIFAR-10 images\n",
        "\n",
        "import matplotlib.pyplot as plt\n",
        "\n",
        "fig, ax = plt.subplots(1, 10, figsize=(10, 1))\n",
        "for i in range(10):\n",
        "    ax[i].set_axis_off()\n",
        "    ax[i].imshow(x_train[i])"
      ],
      "execution_count": 55,
      "outputs": [
        {
          "output_type": "display_data",
          "data": {
            "image/png": "[encoded data removed]",
            "text/plain": [
              "<Figure size 720x72 with 10 Axes>"
            ]
          },
          "metadata": {
            "tags": []
          }
        }
      ]
    },
    {
      "cell_type": "code",
      "metadata": {
        "id": "mTt-soZSxmWK",
        "colab_type": "code",
        "colab": {}
      },
      "source": [
        "# Introduce function to test model accuracy\n",
        "\n",
        "def get_test_accuracy(model, x_test, y_test):\n",
        "    test_loss, test_acc = model.evaluate(x=x_test, y=y_test, verbose=0)\n",
        "    print('accuracy: {acc:0.3f}'.format(acc=test_acc))\n",
        "\n",
        "\n",
        "# Introduce function that creates a new instance of a simple CNN\n",
        "\n",
        "from tensorflow.keras.models import Sequential\n",
        "from tensorflow.keras.layers import Dense, Flatten, Conv2D, MaxPooling2D\n",
        "\n",
        "def get_new_model():\n",
        "    model = Sequential([\n",
        "        Conv2D(filters=16, input_shape=(32, 32, 3), kernel_size=(3, 3), \n",
        "               activation='relu', name='conv_1'),\n",
        "        Conv2D(filters=8, kernel_size=(3, 3), activation='relu', name='conv_2'),\n",
        "        MaxPooling2D(pool_size=(4, 4), name='pool_1'),\n",
        "        Flatten(name='flatten'),\n",
        "        Dense(units=32, activation='relu', name='dense_1'),\n",
        "        Dense(units=10, activation='softmax', name='dense_2')\n",
        "    ])\n",
        "    model.compile(optimizer='adam',\n",
        "                  loss='sparse_categorical_crossentropy',\n",
        "                  metrics=['accuracy'])\n",
        "    return model"
      ],
      "execution_count": 0,
      "outputs": []
    },
    {
      "cell_type": "code",
      "metadata": {
        "id": "dqxISV7xxmbN",
        "colab_type": "code",
        "outputId": "4a7f8bbd-9600-4f1c-ffef-b6419a2f6fa6",
        "colab": {
          "base_uri": "https://localhost:8080/",
          "height": 372
        }
      },
      "source": [
        "# Create an instance of the model and show model summary\n",
        "\n",
        "model=get_new_model()\n",
        "model.summary()"
      ],
      "execution_count": 57,
      "outputs": [
        {
          "output_type": "stream",
          "text": [
            "Model: \"sequential_14\"\n",
            "_________________________________________________________________\n",
            "Layer (type)                 Output Shape              Param #   \n",
            "=================================================================\n",
            "conv_1 (Conv2D)              (None, 30, 30, 16)        448       \n",
            "_________________________________________________________________\n",
            "conv_2 (Conv2D)              (None, 28, 28, 8)         1160      \n",
            "_________________________________________________________________\n",
            "pool_1 (MaxPooling2D)        (None, 7, 7, 8)           0         \n",
            "_________________________________________________________________\n",
            "flatten (Flatten)            (None, 392)               0         \n",
            "_________________________________________________________________\n",
            "dense_1 (Dense)              (None, 32)                12576     \n",
            "_________________________________________________________________\n",
            "dense_2 (Dense)              (None, 10)                330       \n",
            "=================================================================\n",
            "Total params: 14,514\n",
            "Trainable params: 14,514\n",
            "Non-trainable params: 0\n",
            "_________________________________________________________________\n"
          ],
          "name": "stdout"
        }
      ]
    },
    {
      "cell_type": "code",
      "metadata": {
        "id": "bWgrWiIhxmd8",
        "colab_type": "code",
        "outputId": "813ff559-a0dd-4b6a-b65d-f1ccd49a71f8",
        "colab": {
          "base_uri": "https://localhost:8080/",
          "height": 35
        }
      },
      "source": [
        "# Test accuracy of the untrained model, around 10% (random)\n",
        "\n",
        "get_test_accuracy(model, x_test, y_test)"
      ],
      "execution_count": 58,
      "outputs": [
        {
          "output_type": "stream",
          "text": [
            "accuracy: 0.103\n"
          ],
          "name": "stdout"
        }
      ]
    },
    {
      "cell_type": "code",
      "metadata": {
        "id": "DfAlTzclxmg1",
        "colab_type": "code",
        "outputId": "124b9af9-9d7c-4da2-d333-44cefdb2f023",
        "colab": {
          "base_uri": "https://localhost:8080/",
          "height": 266
        }
      },
      "source": [
        "# Train model with checkpoints\n",
        "\n",
        "from tensorflow.keras.callbacks import ModelCheckpoint \n",
        "\n",
        "# Create Tensorflow checkpoint object\n",
        "checkpoint_path=\"model_checkpoints/checkpoint\"\n",
        "checkpoint=ModelCheckpoint(filepath=checkpoint_path, frequency='epoch',save_weights_only=True,verbose=1)\n",
        "\n",
        "# Fit model, with simple checkpoint which saves (and overwrites) model weights every epoch\n",
        "model.fit(x=x_train,y=y_train,epochs=3,callbacks=[checkpoint])"
      ],
      "execution_count": 59,
      "outputs": [
        {
          "output_type": "stream",
          "text": [
            "Train on 10000 samples\n",
            "Epoch 1/3\n",
            " 9984/10000 [============================>.] - ETA: 0s - loss: 1.9625 - accuracy: 0.2706\n",
            "Epoch 00001: saving model to model_checkpoints/checkpoint\n",
            "10000/10000 [==============================] - 13s 1ms/sample - loss: 1.9617 - accuracy: 0.2712\n",
            "Epoch 2/3\n",
            " 9984/10000 [============================>.] - ETA: 0s - loss: 1.6563 - accuracy: 0.3929\n",
            "Epoch 00002: saving model to model_checkpoints/checkpoint\n",
            "10000/10000 [==============================] - 12s 1ms/sample - loss: 1.6561 - accuracy: 0.3929\n",
            "Epoch 3/3\n",
            " 9952/10000 [============================>.] - ETA: 0s - loss: 1.5515 - accuracy: 0.4351\n",
            "Epoch 00003: saving model to model_checkpoints/checkpoint\n",
            "10000/10000 [==============================] - 12s 1ms/sample - loss: 1.5531 - accuracy: 0.4345\n"
          ],
          "name": "stdout"
        },
        {
          "output_type": "execute_result",
          "data": {
            "text/plain": [
              "<tensorflow.python.keras.callbacks.History at 0x7f53570153c8>"
            ]
          },
          "metadata": {
            "tags": []
          },
          "execution_count": 59
        }
      ]
    },
    {
      "cell_type": "code",
      "metadata": {
        "id": "95_yI4iSxmj_",
        "colab_type": "code",
        "outputId": "e671b436-8214-4f81-e7d2-027cc7645c53",
        "colab": {
          "base_uri": "https://localhost:8080/",
          "height": 88
        }
      },
      "source": [
        "# Have a look at what the checkpoint creates\n",
        "\n",
        "! ls -lh model_checkpoints/"
      ],
      "execution_count": 60,
      "outputs": [
        {
          "output_type": "stream",
          "text": [
            "total 177K\n",
            "-rw------- 1 root root   77 Apr  7 07:27 checkpoint\n",
            "-rw------- 1 root root 174K Apr  7 07:27 checkpoint.data-00000-of-00001\n",
            "-rw------- 1 root root 2.0K Apr  7 07:27 checkpoint.index\n"
          ],
          "name": "stdout"
        }
      ]
    },
    {
      "cell_type": "markdown",
      "metadata": {
        "colab_type": "text",
        "id": "-6xmIBEG6D4z"
      },
      "source": [
        "#### `checkpoint`\n",
        "This file is by far the smallest, at only 87 bytes. It's actually so small that we can just look at it directly. It's a human readable file with the following text:\n",
        "```\n",
        "model_checkpoint_path: \"checkpoint\"\n",
        "all_model_checkpoint_paths: \"checkpoint\"\n",
        "```\n",
        "This is metadata that indicates where the actual model data is stored.\n",
        "\n",
        "#### `checkpoint.index`\n",
        "This file tells TensorFlow which weights are stored where. When running models on distributed systems, there may be different *shards*, meaning the full model may have to be recomposed from multiple sources. The model we trained is a single model on a single machine, so there is only one *shard* and all weights are stored in the same place.\n",
        "\n",
        "#### `checkpoint.data-00000-of-00001`\n",
        "This file contains the actual weights from the model. It is by far the largest of the 3 files. Recall that the model we trained had around 14000 parameters, meaning this file is roughly 12 bytes per saved weight.\n",
        "\n",
        "* https://www.tensorflow.org/tutorials/keras/save_and_load#what_are_these_files"
      ]
    },
    {
      "cell_type": "code",
      "metadata": {
        "id": "BgIH5Kh8xmZV",
        "colab_type": "code",
        "outputId": "c3991b04-6922-410b-da66-4bbc5cef88fc",
        "colab": {
          "base_uri": "https://localhost:8080/",
          "height": 35
        }
      },
      "source": [
        "# Evaluate the performance of the trained model\n",
        "\n",
        "get_test_accuracy(model, x_test, y_test)"
      ],
      "execution_count": 61,
      "outputs": [
        {
          "output_type": "stream",
          "text": [
            "accuracy: 0.455\n"
          ],
          "name": "stdout"
        }
      ]
    },
    {
      "cell_type": "code",
      "metadata": {
        "id": "4o2ZwLVexmT-",
        "colab_type": "code",
        "outputId": "24f0683c-2644-4d26-d7a0-ed990fca1c4a",
        "colab": {
          "base_uri": "https://localhost:8080/",
          "height": 35
        }
      },
      "source": [
        "# Create a new instance of the (initialised) model, accuracy around 10% again\n",
        "\n",
        "model=get_new_model()\n",
        "get_test_accuracy(model, x_test, y_test)"
      ],
      "execution_count": 62,
      "outputs": [
        {
          "output_type": "stream",
          "text": [
            "accuracy: 0.117\n"
          ],
          "name": "stdout"
        }
      ]
    },
    {
      "cell_type": "code",
      "metadata": {
        "id": "0WnCjrsRhGUv",
        "colab_type": "code",
        "outputId": "7f7de19a-7585-4c09-f612-2596e0e07ed5",
        "colab": {
          "base_uri": "https://localhost:8080/",
          "height": 35
        }
      },
      "source": [
        "# Load weights -- accuracy is the same as the trained model\n",
        "\n",
        "model.load_weights(checkpoint_path)\n",
        "get_test_accuracy(model, x_test, y_test)"
      ],
      "execution_count": 63,
      "outputs": [
        {
          "output_type": "stream",
          "text": [
            "accuracy: 0.455\n"
          ],
          "name": "stdout"
        }
      ]
    },
    {
      "cell_type": "code",
      "metadata": {
        "id": "fUrnOwhv1HBW",
        "colab_type": "code",
        "outputId": "a26b80bf-77fd-4176-acdf-3133f0c33944",
        "colab": {
          "base_uri": "https://localhost:8080/",
          "height": 372
        }
      },
      "source": [
        "# Create more customised checkpoint\n",
        "\n",
        "# Create Tensorflow checkpoint object with epoch and batch details\n",
        "checkpoint_5000_path='model_checkpoints_5000/checkpoint_{epoch:02d}_{batch:04d}'\n",
        "checkpoint_5000=ModelCheckpoint(filepath=checkpoint_5000_path, save_weights_only=True, save_freq=5000, verbose=1)\n",
        "\n",
        "# Create and fit model with checkpoint\n",
        "model=get_new_model()\n",
        "model.fit(x=x_train,y=y_train,epochs=3,validation_data=(x_test,y_test),batch_size=10,callbacks=[checkpoint_5000])\n"
      ],
      "execution_count": 64,
      "outputs": [
        {
          "output_type": "stream",
          "text": [
            "Train on 10000 samples, validate on 1000 samples\n",
            "Epoch 1/3\n",
            " 4980/10000 [=============>................] - ETA: 7s - loss: 2.0120 - accuracy: 0.2460\n",
            "Epoch 00001: saving model to model_checkpoints_5000/checkpoint_01_0499\n",
            " 9960/10000 [============================>.] - ETA: 0s - loss: 1.8335 - accuracy: 0.3230\n",
            "Epoch 00001: saving model to model_checkpoints_5000/checkpoint_01_0999\n",
            "10000/10000 [==============================] - 17s 2ms/sample - loss: 1.8318 - accuracy: 0.3239 - val_loss: 1.5685 - val_accuracy: 0.4460\n",
            "Epoch 2/3\n",
            " 4970/10000 [=============>................] - ETA: 7s - loss: 1.5177 - accuracy: 0.4477\n",
            "Epoch 00002: saving model to model_checkpoints_5000/checkpoint_02_0499\n",
            " 9990/10000 [============================>.] - ETA: 0s - loss: 1.4862 - accuracy: 0.4600\n",
            "Epoch 00002: saving model to model_checkpoints_5000/checkpoint_02_0999\n",
            "10000/10000 [==============================] - 17s 2ms/sample - loss: 1.4864 - accuracy: 0.4599 - val_loss: 1.4200 - val_accuracy: 0.4870\n",
            "Epoch 3/3\n",
            " 4980/10000 [=============>................] - ETA: 7s - loss: 1.3737 - accuracy: 0.5110\n",
            "Epoch 00003: saving model to model_checkpoints_5000/checkpoint_03_0499\n",
            " 9970/10000 [============================>.] - ETA: 0s - loss: 1.3818 - accuracy: 0.5020\n",
            "Epoch 00003: saving model to model_checkpoints_5000/checkpoint_03_0999\n",
            "10000/10000 [==============================] - 16s 2ms/sample - loss: 1.3826 - accuracy: 0.5018 - val_loss: 1.4368 - val_accuracy: 0.5030\n"
          ],
          "name": "stdout"
        },
        {
          "output_type": "execute_result",
          "data": {
            "text/plain": [
              "<tensorflow.python.keras.callbacks.History at 0x7f53566b4c88>"
            ]
          },
          "metadata": {
            "tags": []
          },
          "execution_count": 64
        }
      ]
    },
    {
      "cell_type": "code",
      "metadata": {
        "id": "PbzMjikg1HGZ",
        "colab_type": "code",
        "outputId": "67ac24ff-ed3d-4245-8117-736d1af5d7b3",
        "colab": {
          "base_uri": "https://localhost:8080/",
          "height": 266
        }
      },
      "source": [
        "# Have a look at what the checkpoint creates\n",
        "\n",
        "! ls -lh model_checkpoints_5000/"
      ],
      "execution_count": 65,
      "outputs": [
        {
          "output_type": "stream",
          "text": [
            "total 1.1M\n",
            "-rw------- 1 root root   93 Apr  7 07:28 checkpoint\n",
            "-rw------- 1 root root 174K Apr  7 07:27 checkpoint_01_0499.data-00000-of-00001\n",
            "-rw------- 1 root root 2.0K Apr  7 07:27 checkpoint_01_0499.index\n",
            "-rw------- 1 root root 174K Apr  7 07:27 checkpoint_01_0999.data-00000-of-00001\n",
            "-rw------- 1 root root 2.0K Apr  7 07:27 checkpoint_01_0999.index\n",
            "-rw------- 1 root root 174K Apr  7 07:28 checkpoint_02_0499.data-00000-of-00001\n",
            "-rw------- 1 root root 2.0K Apr  7 07:28 checkpoint_02_0499.index\n",
            "-rw------- 1 root root 174K Apr  7 07:28 checkpoint_02_0999.data-00000-of-00001\n",
            "-rw------- 1 root root 2.0K Apr  7 07:28 checkpoint_02_0999.index\n",
            "-rw------- 1 root root 174K Apr  7 07:28 checkpoint_03_0499.data-00000-of-00001\n",
            "-rw------- 1 root root 2.0K Apr  7 07:28 checkpoint_03_0499.index\n",
            "-rw------- 1 root root 174K Apr  7 07:28 checkpoint_03_0999.data-00000-of-00001\n",
            "-rw------- 1 root root 2.0K Apr  7 07:28 checkpoint_03_0999.index\n"
          ],
          "name": "stdout"
        }
      ]
    },
    {
      "cell_type": "code",
      "metadata": {
        "colab_type": "code",
        "id": "1LTGig2v6DHf",
        "colab": {}
      },
      "source": [
        "# Clear directory\n",
        "\n",
        "# ! rm -r model_checkpoints\n",
        "# ! rm -r model_checkpoints_5000"
      ],
      "execution_count": 0,
      "outputs": []
    },
    {
      "cell_type": "markdown",
      "metadata": {
        "id": "ysu9O7OGCpYK",
        "colab_type": "text"
      },
      "source": [
        "#### Common Methods for loading and saving models and weights\n",
        "\n",
        "**Saving/Loading Model Weights only (having the same architecture)**\n",
        "\n",
        "> model.save_weights(filepath='model_name')\n",
        "> \n",
        "> model.load_weights(filepath='model_name')\n",
        "\n",
        "**Saving/Loading Entire Models**\n",
        "\n",
        "> model.save(filepath='model_name')\n",
        "> \n",
        "> model.load(filepath='model_name')\n",
        "\n",
        "**Saving/Loading Model layer structural architecture without weights**\n",
        "\n",
        "> model.model_to_json(filepath='model_name')\n",
        ">\n",
        "> model.model_from_json(filepath='model_name')\n",
        "\n",
        " \n",
        "> model.model_to_yaml(filepath='model_name')\n",
        ">\n",
        ">model.model_from_yaml(filepath='model_name')"
      ]
    },
    {
      "cell_type": "markdown",
      "metadata": {
        "id": "v9VTVgnCub1P",
        "colab_type": "text"
      },
      "source": [
        "A model's configuration refers to its architecture. TensorFlow has a convenient way to retrieve a model's architecture as a dictionary. A TensorFlow model has an inbuilt method get_config which returns the model's architecture as a dictionary."
      ]
    },
    {
      "cell_type": "code",
      "metadata": {
        "id": "1pJ_xzdJ1HKX",
        "colab_type": "code",
        "outputId": "46a692ea-df5b-42d0-83f1-cd5862d61d38",
        "colab": {
          "base_uri": "https://localhost:8080/",
          "height": 55
        }
      },
      "source": [
        "config_dict = model.get_config()\n",
        "print(config_dict)"
      ],
      "execution_count": 67,
      "outputs": [
        {
          "output_type": "stream",
          "text": [
            "{'name': 'sequential_16', 'layers': [{'class_name': 'Conv2D', 'config': {'name': 'conv_1', 'trainable': True, 'batch_input_shape': (None, 32, 32, 3), 'dtype': 'float32', 'filters': 16, 'kernel_size': (3, 3), 'strides': (1, 1), 'padding': 'valid', 'data_format': 'channels_last', 'dilation_rate': (1, 1), 'activation': 'relu', 'use_bias': True, 'kernel_initializer': {'class_name': 'GlorotUniform', 'config': {'seed': None}}, 'bias_initializer': {'class_name': 'Zeros', 'config': {}}, 'kernel_regularizer': None, 'bias_regularizer': None, 'activity_regularizer': None, 'kernel_constraint': None, 'bias_constraint': None}}, {'class_name': 'Conv2D', 'config': {'name': 'conv_2', 'trainable': True, 'dtype': 'float32', 'filters': 8, 'kernel_size': (3, 3), 'strides': (1, 1), 'padding': 'valid', 'data_format': 'channels_last', 'dilation_rate': (1, 1), 'activation': 'relu', 'use_bias': True, 'kernel_initializer': {'class_name': 'GlorotUniform', 'config': {'seed': None}}, 'bias_initializer': {'class_name': 'Zeros', 'config': {}}, 'kernel_regularizer': None, 'bias_regularizer': None, 'activity_regularizer': None, 'kernel_constraint': None, 'bias_constraint': None}}, {'class_name': 'MaxPooling2D', 'config': {'name': 'pool_1', 'trainable': True, 'dtype': 'float32', 'pool_size': (4, 4), 'padding': 'valid', 'strides': (4, 4), 'data_format': 'channels_last'}}, {'class_name': 'Flatten', 'config': {'name': 'flatten', 'trainable': True, 'dtype': 'float32', 'data_format': 'channels_last'}}, {'class_name': 'Dense', 'config': {'name': 'dense_1', 'trainable': True, 'dtype': 'float32', 'units': 32, 'activation': 'relu', 'use_bias': True, 'kernel_initializer': {'class_name': 'GlorotUniform', 'config': {'seed': None}}, 'bias_initializer': {'class_name': 'Zeros', 'config': {}}, 'kernel_regularizer': None, 'bias_regularizer': None, 'activity_regularizer': None, 'kernel_constraint': None, 'bias_constraint': None}}, {'class_name': 'Dense', 'config': {'name': 'dense_2', 'trainable': True, 'dtype': 'float32', 'units': 10, 'activation': 'softmax', 'use_bias': True, 'kernel_initializer': {'class_name': 'GlorotUniform', 'config': {'seed': None}}, 'bias_initializer': {'class_name': 'Zeros', 'config': {}}, 'kernel_regularizer': None, 'bias_regularizer': None, 'activity_regularizer': None, 'kernel_constraint': None, 'bias_constraint': None}}]}\n"
          ],
          "name": "stdout"
        }
      ]
    },
    {
      "cell_type": "markdown",
      "metadata": {
        "id": "_O1kF--oufPD",
        "colab_type": "text"
      },
      "source": [
        "A new TensorFlow model can be created from this config dictionary. This model will have reinitialized weights, which are not the same as the original model."
      ]
    },
    {
      "cell_type": "code",
      "metadata": {
        "id": "NIiaHbsfteJh",
        "colab_type": "code",
        "colab": {}
      },
      "source": [
        "# For models that are not Sequential models, use tf.keras.Model.from_config instead of tf.keras.Sequential.from_config.\n",
        "\n",
        "model_same_config = tf.keras.Sequential.from_config(config_dict)"
      ],
      "execution_count": 0,
      "outputs": []
    },
    {
      "cell_type": "code",
      "metadata": {
        "id": "PclFKQVUteP5",
        "colab_type": "code",
        "outputId": "c386ecd6-b307-4ac8-dc43-d5dea035f66f",
        "colab": {
          "base_uri": "https://localhost:8080/",
          "height": 52
        }
      },
      "source": [
        "# check explicitly that the config of both models is the same, but the weights are not\n",
        "\n",
        "print('Same config:', \n",
        "      model.get_config() == model_same_config.get_config())\n",
        "print('Same value for first weight matrix:', \n",
        "      np.allclose(model.weights[0].numpy(), model_same_config.weights[0].numpy()))"
      ],
      "execution_count": 69,
      "outputs": [
        {
          "output_type": "stream",
          "text": [
            "Same config: True\n",
            "Same value for first weight matrix: False\n"
          ],
          "name": "stdout"
        }
      ]
    },
    {
      "cell_type": "markdown",
      "metadata": {
        "id": "6tI-6DI9xDnT",
        "colab_type": "text"
      },
      "source": [
        "It is also possible to obtain a model's config in JSON or YAML formats. This follows the same pattern:"
      ]
    },
    {
      "cell_type": "code",
      "metadata": {
        "id": "i74N4OAuteNz",
        "colab_type": "code",
        "outputId": "b8386fa1-e926-4613-b375-6a79a3b567ed",
        "colab": {
          "base_uri": "https://localhost:8080/",
          "height": 90
        }
      },
      "source": [
        "import json\n",
        "\n",
        "json_string = model.to_json()\n",
        "print(json_string)\n",
        "\n",
        "\n",
        "# Write out JSON config file\n",
        "\n",
        "with open('config.json', 'w') as f:\n",
        "    json.dump(json_string, f)\n",
        "del json_string\n",
        "\n",
        "\n",
        "# Read in JSON config file again\n",
        "\n",
        "with open('config.json', 'r') as f:\n",
        "    json_string = json.load(f)\n",
        "\n",
        "\n",
        "# Reinitialize model\n",
        "\n",
        "model_same_config = tf.keras.models.model_from_json(json_string)\n",
        "\n",
        "\n",
        "# Same config, new weights\n",
        "\n",
        "print('Same config:', \n",
        "      model.get_config() == model_same_config.get_config())\n",
        "print('Same value for first weight matrix:', \n",
        "      np.allclose(model.weights[0].numpy(), model_same_config.weights[0].numpy()))"
      ],
      "execution_count": 70,
      "outputs": [
        {
          "output_type": "stream",
          "text": [
            "{\"class_name\": \"Sequential\", \"config\": {\"name\": \"sequential_16\", \"layers\": [{\"class_name\": \"Conv2D\", \"config\": {\"name\": \"conv_1\", \"trainable\": true, \"batch_input_shape\": [null, 32, 32, 3], \"dtype\": \"float32\", \"filters\": 16, \"kernel_size\": [3, 3], \"strides\": [1, 1], \"padding\": \"valid\", \"data_format\": \"channels_last\", \"dilation_rate\": [1, 1], \"activation\": \"relu\", \"use_bias\": true, \"kernel_initializer\": {\"class_name\": \"GlorotUniform\", \"config\": {\"seed\": null}}, \"bias_initializer\": {\"class_name\": \"Zeros\", \"config\": {}}, \"kernel_regularizer\": null, \"bias_regularizer\": null, \"activity_regularizer\": null, \"kernel_constraint\": null, \"bias_constraint\": null}}, {\"class_name\": \"Conv2D\", \"config\": {\"name\": \"conv_2\", \"trainable\": true, \"dtype\": \"float32\", \"filters\": 8, \"kernel_size\": [3, 3], \"strides\": [1, 1], \"padding\": \"valid\", \"data_format\": \"channels_last\", \"dilation_rate\": [1, 1], \"activation\": \"relu\", \"use_bias\": true, \"kernel_initializer\": {\"class_name\": \"GlorotUniform\", \"config\": {\"seed\": null}}, \"bias_initializer\": {\"class_name\": \"Zeros\", \"config\": {}}, \"kernel_regularizer\": null, \"bias_regularizer\": null, \"activity_regularizer\": null, \"kernel_constraint\": null, \"bias_constraint\": null}}, {\"class_name\": \"MaxPooling2D\", \"config\": {\"name\": \"pool_1\", \"trainable\": true, \"dtype\": \"float32\", \"pool_size\": [4, 4], \"padding\": \"valid\", \"strides\": [4, 4], \"data_format\": \"channels_last\"}}, {\"class_name\": \"Flatten\", \"config\": {\"name\": \"flatten\", \"trainable\": true, \"dtype\": \"float32\", \"data_format\": \"channels_last\"}}, {\"class_name\": \"Dense\", \"config\": {\"name\": \"dense_1\", \"trainable\": true, \"dtype\": \"float32\", \"units\": 32, \"activation\": \"relu\", \"use_bias\": true, \"kernel_initializer\": {\"class_name\": \"GlorotUniform\", \"config\": {\"seed\": null}}, \"bias_initializer\": {\"class_name\": \"Zeros\", \"config\": {}}, \"kernel_regularizer\": null, \"bias_regularizer\": null, \"activity_regularizer\": null, \"kernel_constraint\": null, \"bias_constraint\": null}}, {\"class_name\": \"Dense\", \"config\": {\"name\": \"dense_2\", \"trainable\": true, \"dtype\": \"float32\", \"units\": 10, \"activation\": \"softmax\", \"use_bias\": true, \"kernel_initializer\": {\"class_name\": \"GlorotUniform\", \"config\": {\"seed\": null}}, \"bias_initializer\": {\"class_name\": \"Zeros\", \"config\": {}}, \"kernel_regularizer\": null, \"bias_regularizer\": null, \"activity_regularizer\": null, \"kernel_constraint\": null, \"bias_constraint\": null}}]}, \"keras_version\": \"2.2.4-tf\", \"backend\": \"tensorflow\"}\n",
            "Same config: True\n",
            "Same value for first weight matrix: False\n"
          ],
          "name": "stdout"
        }
      ]
    },
    {
      "cell_type": "markdown",
      "metadata": {
        "id": "JAgKHCCFyBkJ",
        "colab_type": "text"
      },
      "source": [
        "The YAML format is similar. The details of writing out YAML files, loading them and using them to create a new model are similar as for the JSON files. Writing out, reading in and using YAML files to create models is similar to JSON files."
      ]
    },
    {
      "cell_type": "code",
      "metadata": {
        "id": "AfYB4ph6teHE",
        "colab_type": "code",
        "outputId": "d25aeb77-9195-4837-d4a7-e50e04bbdf12",
        "colab": {
          "base_uri": "https://localhost:8080/",
          "height": 1000
        }
      },
      "source": [
        "yaml_string = model.to_yaml()\n",
        "print(yaml_string)"
      ],
      "execution_count": 71,
      "outputs": [
        {
          "output_type": "stream",
          "text": [
            "backend: tensorflow\n",
            "class_name: Sequential\n",
            "config:\n",
            "  layers:\n",
            "  - class_name: Conv2D\n",
            "    config:\n",
            "      activation: relu\n",
            "      activity_regularizer: null\n",
            "      batch_input_shape: !!python/tuple [null, 32, 32, 3]\n",
            "      bias_constraint: null\n",
            "      bias_initializer:\n",
            "        class_name: Zeros\n",
            "        config: {}\n",
            "      bias_regularizer: null\n",
            "      data_format: channels_last\n",
            "      dilation_rate: &id001 !!python/tuple [1, 1]\n",
            "      dtype: float32\n",
            "      filters: 16\n",
            "      kernel_constraint: null\n",
            "      kernel_initializer:\n",
            "        class_name: GlorotUniform\n",
            "        config: {seed: null}\n",
            "      kernel_regularizer: null\n",
            "      kernel_size: !!python/tuple [3, 3]\n",
            "      name: conv_1\n",
            "      padding: valid\n",
            "      strides: &id002 !!python/tuple [1, 1]\n",
            "      trainable: true\n",
            "      use_bias: true\n",
            "  - class_name: Conv2D\n",
            "    config:\n",
            "      activation: relu\n",
            "      activity_regularizer: null\n",
            "      bias_constraint: null\n",
            "      bias_initializer:\n",
            "        class_name: Zeros\n",
            "        config: {}\n",
            "      bias_regularizer: null\n",
            "      data_format: channels_last\n",
            "      dilation_rate: *id001\n",
            "      dtype: float32\n",
            "      filters: 8\n",
            "      kernel_constraint: null\n",
            "      kernel_initializer:\n",
            "        class_name: GlorotUniform\n",
            "        config: {seed: null}\n",
            "      kernel_regularizer: null\n",
            "      kernel_size: !!python/tuple [3, 3]\n",
            "      name: conv_2\n",
            "      padding: valid\n",
            "      strides: *id002\n",
            "      trainable: true\n",
            "      use_bias: true\n",
            "  - class_name: MaxPooling2D\n",
            "    config:\n",
            "      data_format: channels_last\n",
            "      dtype: float32\n",
            "      name: pool_1\n",
            "      padding: valid\n",
            "      pool_size: &id003 !!python/tuple [4, 4]\n",
            "      strides: *id003\n",
            "      trainable: true\n",
            "  - class_name: Flatten\n",
            "    config: {data_format: channels_last, dtype: float32, name: flatten, trainable: true}\n",
            "  - class_name: Dense\n",
            "    config:\n",
            "      activation: relu\n",
            "      activity_regularizer: null\n",
            "      bias_constraint: null\n",
            "      bias_initializer:\n",
            "        class_name: Zeros\n",
            "        config: {}\n",
            "      bias_regularizer: null\n",
            "      dtype: float32\n",
            "      kernel_constraint: null\n",
            "      kernel_initializer:\n",
            "        class_name: GlorotUniform\n",
            "        config: {seed: null}\n",
            "      kernel_regularizer: null\n",
            "      name: dense_1\n",
            "      trainable: true\n",
            "      units: 32\n",
            "      use_bias: true\n",
            "  - class_name: Dense\n",
            "    config:\n",
            "      activation: softmax\n",
            "      activity_regularizer: null\n",
            "      bias_constraint: null\n",
            "      bias_initializer:\n",
            "        class_name: Zeros\n",
            "        config: {}\n",
            "      bias_regularizer: null\n",
            "      dtype: float32\n",
            "      kernel_constraint: null\n",
            "      kernel_initializer:\n",
            "        class_name: GlorotUniform\n",
            "        config: {seed: null}\n",
            "      kernel_regularizer: null\n",
            "      name: dense_2\n",
            "      trainable: true\n",
            "      units: 10\n",
            "      use_bias: true\n",
            "  name: sequential_16\n",
            "keras_version: 2.2.4-tf\n",
            "\n"
          ],
          "name": "stdout"
        }
      ]
    },
    {
      "cell_type": "markdown",
      "metadata": {
        "id": "Fy92-3pZ1c4f",
        "colab_type": "text"
      },
      "source": [
        "## Loading pre-trained Keras models\n",
        "Import and build Keras ResNet50 model"
      ]
    },
    {
      "cell_type": "code",
      "metadata": {
        "id": "SHVNYMkZteEg",
        "colab_type": "code",
        "outputId": "3c83c0a5-e2c7-4c65-a0bc-9e75092ada20",
        "colab": {
          "base_uri": "https://localhost:8080/",
          "height": 179
        }
      },
      "source": [
        "from tensorflow.keras.applications import ResNet50\n",
        "model = ResNet50(weights='imagenet')"
      ],
      "execution_count": 72,
      "outputs": [
        {
          "output_type": "stream",
          "text": [
            "WARNING:tensorflow:Unresolved object in checkpoint: (root).optimizer.iter\n",
            "WARNING:tensorflow:Unresolved object in checkpoint: (root).optimizer.beta_1\n",
            "WARNING:tensorflow:Unresolved object in checkpoint: (root).optimizer.beta_2\n",
            "WARNING:tensorflow:Unresolved object in checkpoint: (root).optimizer.decay\n",
            "WARNING:tensorflow:Unresolved object in checkpoint: (root).optimizer.learning_rate\n",
            "WARNING:tensorflow:A checkpoint was restored (e.g. tf.train.Checkpoint.restore or tf.keras.Model.load_weights) but not all checkpointed values were used. See above for specific issues. Use expect_partial() on the load status object, e.g. tf.train.Checkpoint.restore(...).expect_partial(), to silence these warnings, or use assert_consumed() to make the check explicit. See https://www.tensorflow.org/alpha/guide/checkpoints#loading_mechanics for details.\n",
            "Downloading data from https://github.com/keras-team/keras-applications/releases/download/resnet/resnet50_weights_tf_dim_ordering_tf_kernels.h5\n",
            "102973440/102967424 [==============================] - 8s 0us/step\n"
          ],
          "name": "stdout"
        }
      ]
    },
    {
      "cell_type": "code",
      "metadata": {
        "id": "oGB6w9ja1HEU",
        "colab_type": "code",
        "colab": {}
      },
      "source": [
        "# Retrieve the image files\n",
        "\n",
        "!wget -q -O lemon.jpg --no-check-certificate \"https://docs.google.com/uc?export=download&id=1JSgQ9qgi9nO9t2aGEk-zA6lzYNUT9vZJ\"\n",
        "!wget -q -O viaduct.jpg --no-check-certificate \"https://docs.google.com/uc?export=download&id=1sQzMKmyCR5Tur19lP3n1IIlEMG_o6Mct\"\n",
        "!wget -q -O water_tower.jpg --no-check-certificate \"https://docs.google.com/uc?export=download&id=1cPAQD1O6mAiMbg0fmG5HIk8OuO_BSC6J\""
      ],
      "execution_count": 0,
      "outputs": []
    },
    {
      "cell_type": "code",
      "metadata": {
        "id": "2vQOU2331G-7",
        "colab_type": "code",
        "colab": {}
      },
      "source": [
        "# Import 3 sample ImageNet images\n",
        "\n",
        "from tensorflow.keras.preprocessing.image import load_img\n",
        "\n",
        "lemon_img = load_img('lemon.jpg', target_size=(224, 224))\n",
        "viaduct_img = load_img('viaduct.jpg', target_size=(224, 224))\n",
        "water_tower_img = load_img('water_tower.jpg', target_size=(224, 224))"
      ],
      "execution_count": 0,
      "outputs": []
    },
    {
      "cell_type": "code",
      "metadata": {
        "id": "6u9nOm0q1G5l",
        "colab_type": "code",
        "colab": {}
      },
      "source": [
        "# Use ResNet50 model to classify images\n",
        "# Useful function: presents top 5 predictions and probabilities\n",
        "\n",
        "from tensorflow.keras.preprocessing.image import img_to_array\n",
        "from tensorflow.keras.applications.resnet50 import preprocess_input, decode_predictions\n",
        "import numpy as np\n",
        "import pandas as pd\n",
        "\n",
        "def get_top_5_predictions(img):\n",
        "    x = img_to_array(img)[np.newaxis, ...]\n",
        "    x = preprocess_input(x)\n",
        "    preds = decode_predictions(model.predict(x), top=5)\n",
        "    top_preds = pd.DataFrame(columns=['prediction', 'probability'],\n",
        "                             index=np.arange(5)+1)\n",
        "    for i in range(5):\n",
        "        top_preds.loc[i+1, 'prediction'] = preds[0][i][1]\n",
        "        top_preds.loc[i+1, 'probability'] = preds[0][i][2] \n",
        "    return top_preds"
      ],
      "execution_count": 0,
      "outputs": []
    },
    {
      "cell_type": "code",
      "metadata": {
        "id": "0D7BQHgE1xyr",
        "colab_type": "code",
        "outputId": "d0975f31-ffab-4462-aea0-8c79a67569eb",
        "colab": {
          "base_uri": "https://localhost:8080/",
          "height": 241
        }
      },
      "source": [
        "# Display image\n",
        "\n",
        "lemon_img"
      ],
      "execution_count": 76,
      "outputs": [
        {
          "output_type": "execute_result",
          "data": {
            "image/png": "[encoded data removed]",
            "text/plain": [
              "<PIL.Image.Image image mode=RGB size=224x224 at 0x7F53544EF1D0>"
            ]
          },
          "metadata": {
            "tags": []
          },
          "execution_count": 76
        }
      ]
    },
    {
      "cell_type": "code",
      "metadata": {
        "id": "azZQbT1S1x39",
        "colab_type": "code",
        "outputId": "44a75687-fef9-4880-d7aa-1673ff79560d",
        "colab": {
          "base_uri": "https://localhost:8080/",
          "height": 229
        }
      },
      "source": [
        "# Display top 5 predictions\n",
        "\n",
        "get_top_5_predictions(lemon_img)"
      ],
      "execution_count": 77,
      "outputs": [
        {
          "output_type": "stream",
          "text": [
            "Downloading data from https://storage.googleapis.com/download.tensorflow.org/data/imagenet_class_index.json\n",
            "40960/35363 [==================================] - 0s 0us/step\n"
          ],
          "name": "stdout"
        },
        {
          "output_type": "execute_result",
          "data": {
            "text/html": [
              "<div>\n",
              "<style scoped>\n",
              "    .dataframe tbody tr th:only-of-type {\n",
              "        vertical-align: middle;\n",
              "    }\n",
              "\n",
              "    .dataframe tbody tr th {\n",
              "        vertical-align: top;\n",
              "    }\n",
              "\n",
              "    .dataframe thead th {\n",
              "        text-align: right;\n",
              "    }\n",
              "</style>\n",
              "<table border=\"1\" class=\"dataframe\">\n",
              "  <thead>\n",
              "    <tr style=\"text-align: right;\">\n",
              "      <th></th>\n",
              "      <th>prediction</th>\n",
              "      <th>probability</th>\n",
              "    </tr>\n",
              "  </thead>\n",
              "  <tbody>\n",
              "    <tr>\n",
              "      <th>1</th>\n",
              "      <td>consomme</td>\n",
              "      <td>0.227801</td>\n",
              "    </tr>\n",
              "    <tr>\n",
              "      <th>2</th>\n",
              "      <td>lemon</td>\n",
              "      <td>0.221758</td>\n",
              "    </tr>\n",
              "    <tr>\n",
              "      <th>3</th>\n",
              "      <td>eggnog</td>\n",
              "      <td>0.151335</td>\n",
              "    </tr>\n",
              "    <tr>\n",
              "      <th>4</th>\n",
              "      <td>ladle</td>\n",
              "      <td>0.0400882</td>\n",
              "    </tr>\n",
              "    <tr>\n",
              "      <th>5</th>\n",
              "      <td>spotlight</td>\n",
              "      <td>0.0291972</td>\n",
              "    </tr>\n",
              "  </tbody>\n",
              "</table>\n",
              "</div>"
            ],
            "text/plain": [
              "  prediction probability\n",
              "1   consomme    0.227801\n",
              "2      lemon    0.221758\n",
              "3     eggnog    0.151335\n",
              "4      ladle   0.0400882\n",
              "5  spotlight   0.0291972"
            ]
          },
          "metadata": {
            "tags": []
          },
          "execution_count": 77
        }
      ]
    },
    {
      "cell_type": "code",
      "metadata": {
        "id": "wT6hjxm71yB_",
        "colab_type": "code",
        "outputId": "80db5ad1-4d2a-460d-d227-36864faf5aee",
        "colab": {
          "base_uri": "https://localhost:8080/",
          "height": 241
        }
      },
      "source": [
        "# Display image\n",
        "\n",
        "viaduct_img"
      ],
      "execution_count": 78,
      "outputs": [
        {
          "output_type": "execute_result",
          "data": {
            "image/png": "[encoded data removed]",
            "text/plain": [
              "<PIL.Image.Image image mode=RGB size=224x224 at 0x7F53505588D0>"
            ]
          },
          "metadata": {
            "tags": []
          },
          "execution_count": 78
        }
      ]
    },
    {
      "cell_type": "code",
      "metadata": {
        "id": "7ww6EhkZ1yFc",
        "colab_type": "code",
        "outputId": "66aa968c-3e75-4414-ce4e-0e4bf98068e2",
        "colab": {
          "base_uri": "https://localhost:8080/",
          "height": 194
        }
      },
      "source": [
        "# Display top 5 predictions\n",
        "\n",
        "get_top_5_predictions(viaduct_img)"
      ],
      "execution_count": 79,
      "outputs": [
        {
          "output_type": "execute_result",
          "data": {
            "text/html": [
              "<div>\n",
              "<style scoped>\n",
              "    .dataframe tbody tr th:only-of-type {\n",
              "        vertical-align: middle;\n",
              "    }\n",
              "\n",
              "    .dataframe tbody tr th {\n",
              "        vertical-align: top;\n",
              "    }\n",
              "\n",
              "    .dataframe thead th {\n",
              "        text-align: right;\n",
              "    }\n",
              "</style>\n",
              "<table border=\"1\" class=\"dataframe\">\n",
              "  <thead>\n",
              "    <tr style=\"text-align: right;\">\n",
              "      <th></th>\n",
              "      <th>prediction</th>\n",
              "      <th>probability</th>\n",
              "    </tr>\n",
              "  </thead>\n",
              "  <tbody>\n",
              "    <tr>\n",
              "      <th>1</th>\n",
              "      <td>vault</td>\n",
              "      <td>0.367951</td>\n",
              "    </tr>\n",
              "    <tr>\n",
              "      <th>2</th>\n",
              "      <td>prison</td>\n",
              "      <td>0.111742</td>\n",
              "    </tr>\n",
              "    <tr>\n",
              "      <th>3</th>\n",
              "      <td>viaduct</td>\n",
              "      <td>0.110738</td>\n",
              "    </tr>\n",
              "    <tr>\n",
              "      <th>4</th>\n",
              "      <td>window_screen</td>\n",
              "      <td>0.0882308</td>\n",
              "    </tr>\n",
              "    <tr>\n",
              "      <th>5</th>\n",
              "      <td>fire_screen</td>\n",
              "      <td>0.0206753</td>\n",
              "    </tr>\n",
              "  </tbody>\n",
              "</table>\n",
              "</div>"
            ],
            "text/plain": [
              "      prediction probability\n",
              "1          vault    0.367951\n",
              "2         prison    0.111742\n",
              "3        viaduct    0.110738\n",
              "4  window_screen   0.0882308\n",
              "5    fire_screen   0.0206753"
            ]
          },
          "metadata": {
            "tags": []
          },
          "execution_count": 79
        }
      ]
    },
    {
      "cell_type": "code",
      "metadata": {
        "id": "82IRlOe72SwI",
        "colab_type": "code",
        "outputId": "7e99e615-d590-4d55-d94c-bba80dc7aabb",
        "colab": {
          "base_uri": "https://localhost:8080/",
          "height": 241
        }
      },
      "source": [
        "# Display image\n",
        "\n",
        "water_tower_img"
      ],
      "execution_count": 80,
      "outputs": [
        {
          "output_type": "execute_result",
          "data": {
            "image/png": "[encoded data removed]",
            "text/plain": [
              "<PIL.Image.Image image mode=RGB size=224x224 at 0x7F535051DDA0>"
            ]
          },
          "metadata": {
            "tags": []
          },
          "execution_count": 80
        }
      ]
    },
    {
      "cell_type": "code",
      "metadata": {
        "id": "TGUVVFep1yAF",
        "colab_type": "code",
        "outputId": "0fa41e6a-9309-4838-e17a-70a2307e77a0",
        "colab": {
          "base_uri": "https://localhost:8080/",
          "height": 194
        }
      },
      "source": [
        "# Display top 5 predictions\n",
        "\n",
        "get_top_5_predictions(water_tower_img)"
      ],
      "execution_count": 81,
      "outputs": [
        {
          "output_type": "execute_result",
          "data": {
            "text/html": [
              "<div>\n",
              "<style scoped>\n",
              "    .dataframe tbody tr th:only-of-type {\n",
              "        vertical-align: middle;\n",
              "    }\n",
              "\n",
              "    .dataframe tbody tr th {\n",
              "        vertical-align: top;\n",
              "    }\n",
              "\n",
              "    .dataframe thead th {\n",
              "        text-align: right;\n",
              "    }\n",
              "</style>\n",
              "<table border=\"1\" class=\"dataframe\">\n",
              "  <thead>\n",
              "    <tr style=\"text-align: right;\">\n",
              "      <th></th>\n",
              "      <th>prediction</th>\n",
              "      <th>probability</th>\n",
              "    </tr>\n",
              "  </thead>\n",
              "  <tbody>\n",
              "    <tr>\n",
              "      <th>1</th>\n",
              "      <td>solar_dish</td>\n",
              "      <td>0.384682</td>\n",
              "    </tr>\n",
              "    <tr>\n",
              "      <th>2</th>\n",
              "      <td>ladle</td>\n",
              "      <td>0.196178</td>\n",
              "    </tr>\n",
              "    <tr>\n",
              "      <th>3</th>\n",
              "      <td>planetarium</td>\n",
              "      <td>0.116683</td>\n",
              "    </tr>\n",
              "    <tr>\n",
              "      <th>4</th>\n",
              "      <td>strainer</td>\n",
              "      <td>0.04999</td>\n",
              "    </tr>\n",
              "    <tr>\n",
              "      <th>5</th>\n",
              "      <td>jigsaw_puzzle</td>\n",
              "      <td>0.0219474</td>\n",
              "    </tr>\n",
              "  </tbody>\n",
              "</table>\n",
              "</div>"
            ],
            "text/plain": [
              "      prediction probability\n",
              "1     solar_dish    0.384682\n",
              "2          ladle    0.196178\n",
              "3    planetarium    0.116683\n",
              "4       strainer     0.04999\n",
              "5  jigsaw_puzzle   0.0219474"
            ]
          },
          "metadata": {
            "tags": []
          },
          "execution_count": 81
        }
      ]
    },
    {
      "cell_type": "markdown",
      "metadata": {
        "id": "4kejqHWA2k3f",
        "colab_type": "text"
      },
      "source": [
        "## Tensorflow Hub modules\n",
        "[Tensorflow Hub page](https://tfhub.dev/google/imagenet/mobilenet_v1_050_160/classification/4)"
      ]
    },
    {
      "cell_type": "code",
      "metadata": {
        "id": "6ra1mstC1x9C",
        "colab_type": "code",
        "colab": {}
      },
      "source": [
        "import tensorflow_hub as hub"
      ],
      "execution_count": 0,
      "outputs": []
    },
    {
      "cell_type": "code",
      "metadata": {
        "id": "ttHAI9RJ1x7U",
        "colab_type": "code",
        "outputId": "f190b816-8206-4062-ce8b-7f227eeed4dd",
        "colab": {
          "base_uri": "https://localhost:8080/",
          "height": 195
        }
      },
      "source": [
        "# Build Google's Mobilenet v1 model\n",
        "# Use MobileNet model to classify images\n",
        "\n",
        "module_url = \"https://tfhub.dev/google/imagenet/mobilenet_v1_050_160/classification/4\"\n",
        "model = Sequential([hub.KerasLayer(module_url)])\n",
        "model.build(input_shape=[None, 160, 160, 3])\n",
        "model.summary()"
      ],
      "execution_count": 83,
      "outputs": [
        {
          "output_type": "stream",
          "text": [
            "Model: \"sequential_17\"\n",
            "_________________________________________________________________\n",
            "Layer (type)                 Output Shape              Param #   \n",
            "=================================================================\n",
            "keras_layer (KerasLayer)     multiple                  1343049   \n",
            "=================================================================\n",
            "Total params: 1,343,049\n",
            "Trainable params: 0\n",
            "Non-trainable params: 1,343,049\n",
            "_________________________________________________________________\n"
          ],
          "name": "stdout"
        }
      ]
    },
    {
      "cell_type": "code",
      "metadata": {
        "id": "JRHKZyTT1x11",
        "colab_type": "code",
        "colab": {}
      },
      "source": [
        "# Retrieve the image files\n",
        "\n",
        "!wget -q -O lemon.jpg --no-check-certificate \"https://docs.google.com/uc?export=download&id=1JSgQ9qgi9nO9t2aGEk-zA6lzYNUT9vZJ\"\n",
        "!wget -q -O viaduct.jpg --no-check-certificate \"https://docs.google.com/uc?export=download&id=1sQzMKmyCR5Tur19lP3n1IIlEMG_o6Mct\"\n",
        "!wget -q -O water_tower.jpg --no-check-certificate \"https://docs.google.com/uc?export=download&id=1cPAQD1O6mAiMbg0fmG5HIk8OuO_BSC6J\""
      ],
      "execution_count": 0,
      "outputs": []
    },
    {
      "cell_type": "code",
      "metadata": {
        "id": "4-RBR5U91G22",
        "colab_type": "code",
        "colab": {}
      },
      "source": [
        "# Import and preprocess 3 sample ImageNet images\n",
        "\n",
        "from tensorflow.keras.preprocessing.image import load_img\n",
        "\n",
        "lemon_img = load_img(\"lemon.jpg\", target_size=(160, 160))\n",
        "viaduct_img = load_img(\"viaduct.jpg\", target_size=(160, 160))\n",
        "water_tower_img = load_img(\"water_tower.jpg\", target_size=(160, 160))"
      ],
      "execution_count": 0,
      "outputs": []
    },
    {
      "cell_type": "code",
      "metadata": {
        "id": "eMI_MJ8zBoao",
        "colab_type": "code",
        "outputId": "4be6cca9-b1b0-4364-e1b1-b067949a2cc1",
        "colab": {
          "base_uri": "https://localhost:8080/",
          "height": 212
        }
      },
      "source": [
        "! wget \"https://storage.googleapis.com/download.tensorflow.org/data/ImageNetLabels.txt\""
      ],
      "execution_count": 86,
      "outputs": [
        {
          "output_type": "stream",
          "text": [
            "--2020-04-07 07:29:05--  https://storage.googleapis.com/download.tensorflow.org/data/ImageNetLabels.txt\n",
            "Resolving storage.googleapis.com (storage.googleapis.com)... 64.233.189.128, 2404:6800:4008:c07::80\n",
            "Connecting to storage.googleapis.com (storage.googleapis.com)|64.233.189.128|:443... connected.\n",
            "HTTP request sent, awaiting response... 200 OK\n",
            "Length: 10484 (10K) [text/plain]\n",
            "Saving to: ‘ImageNetLabels.txt.1’\n",
            "\n",
            "\rImageNetLabels.txt.   0%[                    ]       0  --.-KB/s               \rImageNetLabels.txt. 100%[===================>]  10.24K  --.-KB/s    in 0.001s  \n",
            "\n",
            "2020-04-07 07:29:06 (8.99 MB/s) - ‘ImageNetLabels.txt.1’ saved [10484/10484]\n",
            "\n"
          ],
          "name": "stdout"
        }
      ]
    },
    {
      "cell_type": "code",
      "metadata": {
        "id": "eTgQ8tNNhGSE",
        "colab_type": "code",
        "colab": {}
      },
      "source": [
        "# Read in categories text file\n",
        "\n",
        "with open('ImageNetLabels.txt') as txt_file:\n",
        "    categories = txt_file.read().splitlines()"
      ],
      "execution_count": 0,
      "outputs": []
    },
    {
      "cell_type": "code",
      "metadata": {
        "id": "psi2-kZK4G64",
        "colab_type": "code",
        "colab": {}
      },
      "source": [
        "# Useful function: presents top 5 predictions\n",
        "\n",
        "import pandas as pd\n",
        "\n",
        "def get_top_5_predictions(img):\n",
        "    x = img_to_array(img)[np.newaxis, ...] / 255.0\n",
        "    preds = model.predict(x)\n",
        "    top_preds = pd.DataFrame(columns=['prediction'],\n",
        "                             index=np.arange(5)+1)\n",
        "    sorted_index = np.argsort(-preds[0])\n",
        "    for i in range(5):\n",
        "        ith_pred = categories[sorted_index[i]]\n",
        "        top_preds.loc[i+1, 'prediction'] = ith_pred\n",
        "            \n",
        "    return top_preds"
      ],
      "execution_count": 0,
      "outputs": []
    },
    {
      "cell_type": "code",
      "metadata": {
        "colab_type": "code",
        "outputId": "927809cc-8e3d-4fc9-be39-33173444d2c0",
        "id": "TlXh5GczCEfm",
        "colab": {
          "base_uri": "https://localhost:8080/",
          "height": 177
        }
      },
      "source": [
        "# Display image\n",
        "\n",
        "lemon_img"
      ],
      "execution_count": 89,
      "outputs": [
        {
          "output_type": "execute_result",
          "data": {
            "image/png": "[encoded data removed]",
            "text/plain": [
              "<PIL.Image.Image image mode=RGB size=160x160 at 0x7F534E82D320>"
            ]
          },
          "metadata": {
            "tags": []
          },
          "execution_count": 89
        }
      ]
    },
    {
      "cell_type": "code",
      "metadata": {
        "colab_type": "code",
        "outputId": "b4a4d86b-46c1-4955-98d7-0ec408c4741d",
        "id": "TwPjmnSPCEf0",
        "colab": {
          "base_uri": "https://localhost:8080/",
          "height": 194
        }
      },
      "source": [
        "# Display top 5 predictions\n",
        "\n",
        "get_top_5_predictions(lemon_img)"
      ],
      "execution_count": 90,
      "outputs": [
        {
          "output_type": "execute_result",
          "data": {
            "text/html": [
              "<div>\n",
              "<style scoped>\n",
              "    .dataframe tbody tr th:only-of-type {\n",
              "        vertical-align: middle;\n",
              "    }\n",
              "\n",
              "    .dataframe tbody tr th {\n",
              "        vertical-align: top;\n",
              "    }\n",
              "\n",
              "    .dataframe thead th {\n",
              "        text-align: right;\n",
              "    }\n",
              "</style>\n",
              "<table border=\"1\" class=\"dataframe\">\n",
              "  <thead>\n",
              "    <tr style=\"text-align: right;\">\n",
              "      <th></th>\n",
              "      <th>prediction</th>\n",
              "    </tr>\n",
              "  </thead>\n",
              "  <tbody>\n",
              "    <tr>\n",
              "      <th>1</th>\n",
              "      <td>shower cap</td>\n",
              "    </tr>\n",
              "    <tr>\n",
              "      <th>2</th>\n",
              "      <td>tray</td>\n",
              "    </tr>\n",
              "    <tr>\n",
              "      <th>3</th>\n",
              "      <td>candle</td>\n",
              "    </tr>\n",
              "    <tr>\n",
              "      <th>4</th>\n",
              "      <td>brassiere</td>\n",
              "    </tr>\n",
              "    <tr>\n",
              "      <th>5</th>\n",
              "      <td>African chameleon</td>\n",
              "    </tr>\n",
              "  </tbody>\n",
              "</table>\n",
              "</div>"
            ],
            "text/plain": [
              "          prediction\n",
              "1         shower cap\n",
              "2               tray\n",
              "3             candle\n",
              "4          brassiere\n",
              "5  African chameleon"
            ]
          },
          "metadata": {
            "tags": []
          },
          "execution_count": 90
        }
      ]
    },
    {
      "cell_type": "code",
      "metadata": {
        "colab_type": "code",
        "outputId": "1fa94bf3-8d3d-4610-8112-4f46babc402d",
        "id": "prBSHHv0CEf4",
        "colab": {
          "base_uri": "https://localhost:8080/",
          "height": 177
        }
      },
      "source": [
        "# Display image\n",
        "\n",
        "viaduct_img"
      ],
      "execution_count": 91,
      "outputs": [
        {
          "output_type": "execute_result",
          "data": {
            "image/png": "[encoded data removed]",
            "text/plain": [
              "<PIL.Image.Image image mode=RGB size=160x160 at 0x7F53502F4630>"
            ]
          },
          "metadata": {
            "tags": []
          },
          "execution_count": 91
        }
      ]
    },
    {
      "cell_type": "code",
      "metadata": {
        "colab_type": "code",
        "outputId": "19497d7f-5700-47cc-f841-0e158e815104",
        "id": "kWiXsQRrCEf8",
        "colab": {
          "base_uri": "https://localhost:8080/",
          "height": 194
        }
      },
      "source": [
        "# Display top 5 predictions\n",
        "\n",
        "get_top_5_predictions(viaduct_img)"
      ],
      "execution_count": 92,
      "outputs": [
        {
          "output_type": "execute_result",
          "data": {
            "text/html": [
              "<div>\n",
              "<style scoped>\n",
              "    .dataframe tbody tr th:only-of-type {\n",
              "        vertical-align: middle;\n",
              "    }\n",
              "\n",
              "    .dataframe tbody tr th {\n",
              "        vertical-align: top;\n",
              "    }\n",
              "\n",
              "    .dataframe thead th {\n",
              "        text-align: right;\n",
              "    }\n",
              "</style>\n",
              "<table border=\"1\" class=\"dataframe\">\n",
              "  <thead>\n",
              "    <tr style=\"text-align: right;\">\n",
              "      <th></th>\n",
              "      <th>prediction</th>\n",
              "    </tr>\n",
              "  </thead>\n",
              "  <tbody>\n",
              "    <tr>\n",
              "      <th>1</th>\n",
              "      <td>viaduct</td>\n",
              "    </tr>\n",
              "    <tr>\n",
              "      <th>2</th>\n",
              "      <td>pier</td>\n",
              "    </tr>\n",
              "    <tr>\n",
              "      <th>3</th>\n",
              "      <td>dam</td>\n",
              "    </tr>\n",
              "    <tr>\n",
              "      <th>4</th>\n",
              "      <td>prison</td>\n",
              "    </tr>\n",
              "    <tr>\n",
              "      <th>5</th>\n",
              "      <td>solar dish</td>\n",
              "    </tr>\n",
              "  </tbody>\n",
              "</table>\n",
              "</div>"
            ],
            "text/plain": [
              "   prediction\n",
              "1     viaduct\n",
              "2        pier\n",
              "3         dam\n",
              "4      prison\n",
              "5  solar dish"
            ]
          },
          "metadata": {
            "tags": []
          },
          "execution_count": 92
        }
      ]
    },
    {
      "cell_type": "code",
      "metadata": {
        "colab_type": "code",
        "outputId": "f831b37f-967c-4fc8-c50a-2a458aa85b4a",
        "id": "EVGiPCnACEf_",
        "colab": {
          "base_uri": "https://localhost:8080/",
          "height": 177
        }
      },
      "source": [
        "# Display image\n",
        "\n",
        "water_tower_img"
      ],
      "execution_count": 93,
      "outputs": [
        {
          "output_type": "execute_result",
          "data": {
            "image/png": "[encoded data removed]",
            "text/plain": [
              "<PIL.Image.Image image mode=RGB size=160x160 at 0x7F53502F4A90>"
            ]
          },
          "metadata": {
            "tags": []
          },
          "execution_count": 93
        }
      ]
    },
    {
      "cell_type": "code",
      "metadata": {
        "colab_type": "code",
        "outputId": "c45eb8b4-0dbe-48bf-94ed-6f0841b5f961",
        "id": "e6ZT4RmCCEgB",
        "colab": {
          "base_uri": "https://localhost:8080/",
          "height": 194
        }
      },
      "source": [
        "# Display top 5 predictions\n",
        "\n",
        "get_top_5_predictions(water_tower_img)"
      ],
      "execution_count": 94,
      "outputs": [
        {
          "output_type": "execute_result",
          "data": {
            "text/html": [
              "<div>\n",
              "<style scoped>\n",
              "    .dataframe tbody tr th:only-of-type {\n",
              "        vertical-align: middle;\n",
              "    }\n",
              "\n",
              "    .dataframe tbody tr th {\n",
              "        vertical-align: top;\n",
              "    }\n",
              "\n",
              "    .dataframe thead th {\n",
              "        text-align: right;\n",
              "    }\n",
              "</style>\n",
              "<table border=\"1\" class=\"dataframe\">\n",
              "  <thead>\n",
              "    <tr style=\"text-align: right;\">\n",
              "      <th></th>\n",
              "      <th>prediction</th>\n",
              "    </tr>\n",
              "  </thead>\n",
              "  <tbody>\n",
              "    <tr>\n",
              "      <th>1</th>\n",
              "      <td>solar dish</td>\n",
              "    </tr>\n",
              "    <tr>\n",
              "      <th>2</th>\n",
              "      <td>water tower</td>\n",
              "    </tr>\n",
              "    <tr>\n",
              "      <th>3</th>\n",
              "      <td>aircraft carrier</td>\n",
              "    </tr>\n",
              "    <tr>\n",
              "      <th>4</th>\n",
              "      <td>jigsaw puzzle</td>\n",
              "    </tr>\n",
              "    <tr>\n",
              "      <th>5</th>\n",
              "      <td>oxygen mask</td>\n",
              "    </tr>\n",
              "  </tbody>\n",
              "</table>\n",
              "</div>"
            ],
            "text/plain": [
              "         prediction\n",
              "1        solar dish\n",
              "2       water tower\n",
              "3  aircraft carrier\n",
              "4     jigsaw puzzle\n",
              "5       oxygen mask"
            ]
          },
          "metadata": {
            "tags": []
          },
          "execution_count": 94
        }
      ]
    },
    {
      "cell_type": "markdown",
      "metadata": {
        "id": "yA4oCg8sRVEj",
        "colab_type": "text"
      },
      "source": [
        "### Notes\n",
        "* The spatial dimension of the output decreases when we increase the stride in a convolutional layer.\n",
        "* The effect of using pooling layers in convolutional neural networks helps to make the model invariantto small translations of the input. It also helps to reduce the spatial dimensions of the input layer.\n",
        "* A flatten layer unrolls the input into a one-dimensional tensor.\n",
        "\n",
        "\n",
        "### Other Readings\n",
        "* https://medium.com/@ageitgey/machine-learning-is-fun-part-3-deep-learning-and-convolutional-neural-networks-f40359318721\n",
        "* https://medium.com/the-theory-of-everything/understanding-activation-functions-in-neural-networks-9491262884e0\n",
        "* https://towardsdatascience.com/complete-guide-of-activation-functions-34076e95d044\n"
      ]
    },
    {
      "cell_type": "code",
      "metadata": {
        "id": "zGAA_gWQ4HR1",
        "colab_type": "code",
        "colab": {}
      },
      "source": [
        ""
      ],
      "execution_count": 0,
      "outputs": []
    },
    {
      "cell_type": "code",
      "metadata": {
        "id": "b1swxogH4HfI",
        "colab_type": "code",
        "colab": {}
      },
      "source": [
        ""
      ],
      "execution_count": 0,
      "outputs": []
    },
    {
      "cell_type": "code",
      "metadata": {
        "id": "NonvxlBT4HjC",
        "colab_type": "code",
        "colab": {}
      },
      "source": [
        ""
      ],
      "execution_count": 0,
      "outputs": []
    },
    {
      "cell_type": "code",
      "metadata": {
        "id": "qWhF6GyC4Hc0",
        "colab_type": "code",
        "colab": {}
      },
      "source": [
        ""
      ],
      "execution_count": 0,
      "outputs": []
    },
    {
      "cell_type": "code",
      "metadata": {
        "id": "Hoy6XthV4Hai",
        "colab_type": "code",
        "colab": {}
      },
      "source": [
        ""
      ],
      "execution_count": 0,
      "outputs": []
    },
    {
      "cell_type": "code",
      "metadata": {
        "id": "ci-Iwjal4HVS",
        "colab_type": "code",
        "colab": {}
      },
      "source": [
        ""
      ],
      "execution_count": 0,
      "outputs": []
    },
    {
      "cell_type": "code",
      "metadata": {
        "id": "pYLUI4fD4HPx",
        "colab_type": "code",
        "colab": {}
      },
      "source": [
        ""
      ],
      "execution_count": 0,
      "outputs": []
    },
    {
      "cell_type": "code",
      "metadata": {
        "id": "spkIKypj4HKr",
        "colab_type": "code",
        "colab": {}
      },
      "source": [
        ""
      ],
      "execution_count": 0,
      "outputs": []
    },
    {
      "cell_type": "code",
      "metadata": {
        "id": "X3ZNLFlZ4HIS",
        "colab_type": "code",
        "colab": {}
      },
      "source": [
        ""
      ],
      "execution_count": 0,
      "outputs": []
    },
    {
      "cell_type": "code",
      "metadata": {
        "id": "fLltux5s4HE3",
        "colab_type": "code",
        "colab": {}
      },
      "source": [
        ""
      ],
      "execution_count": 0,
      "outputs": []
    },
    {
      "cell_type": "code",
      "metadata": {
        "id": "eW9wjhf_4HDJ",
        "colab_type": "code",
        "colab": {}
      },
      "source": [
        ""
      ],
      "execution_count": 0,
      "outputs": []
    }
  ]
}